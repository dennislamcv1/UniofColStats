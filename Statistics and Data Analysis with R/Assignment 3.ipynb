{
 "cells": [
  {
   "cell_type": "markdown",
   "id": "2c221b56",
   "metadata": {
    "deletable": false,
    "editable": false,
    "nbgrader": {
     "cell_type": "markdown",
     "checksum": "24eeb654077908bdf93201df569dd431",
     "grade": false,
     "grade_id": "cell-4f50927ab35cf782",
     "locked": true,
     "schema_version": 3,
     "solution": false,
     "task": false
    }
   },
   "source": [
    "#### GENERAL INSTRUCTIONS: Place your code in each cell to perform the required calculations.  Ctrl-Enter will execute all lines of code in that cell. Once you are satisfied with your answer (you may work through it as much as you'd like), click on the \"Submit Assignment\" button in the upper right corner and your assignment will be graded."
   ]
  },
  {
   "cell_type": "markdown",
   "id": "1de0f00a",
   "metadata": {
    "deletable": false,
    "editable": false,
    "nbgrader": {
     "cell_type": "markdown",
     "checksum": "471dcdfab5f504e11572457e42714beb",
     "grade": false,
     "grade_id": "cell-11a9606d40339d12",
     "locked": true,
     "schema_version": 3,
     "solution": false,
     "task": false
    }
   },
   "source": [
    "#### Part A\n",
    "Dr. Nuttelman has 12 students in one of his classes.  How many arrangements of 3 students can be put together if order matters?  Store your final answer in the variable `PartA`."
   ]
  },
  {
   "cell_type": "code",
   "execution_count": 1,
   "id": "02acb94e",
   "metadata": {
    "deletable": false,
    "nbgrader": {
     "cell_type": "code",
     "checksum": "c63d37024dff1b66ba4369da75b89cbb",
     "grade": false,
     "grade_id": "cell-85f0f00a74e28a7f",
     "locked": false,
     "schema_version": 3,
     "solution": true,
     "task": false
    }
   },
   "outputs": [
    {
     "name": "stdout",
     "output_type": "stream",
     "text": [
      "[1] 1320\n"
     ]
    }
   ],
   "source": [
    "# YOUR CODE HERE\n",
    "\n",
    "\n",
    "PartA <- factorial(12) / factorial(12 - 3)\n",
    "print(PartA)"
   ]
  },
  {
   "cell_type": "code",
   "execution_count": null,
   "id": "50135297",
   "metadata": {
    "deletable": false,
    "editable": false,
    "nbgrader": {
     "cell_type": "code",
     "checksum": "92e58033fe4d2f0e11ce0b6a5955f2ed",
     "grade": true,
     "grade_id": "cell-5bb38059c29fc3f7",
     "locked": true,
     "points": 1,
     "schema_version": 3,
     "solution": false,
     "task": false
    }
   },
   "outputs": [],
   "source": []
  },
  {
   "cell_type": "markdown",
   "id": "81b08ccd",
   "metadata": {
    "deletable": false,
    "editable": false,
    "nbgrader": {
     "cell_type": "markdown",
     "checksum": "dd2c387f7cba497dd7f9e65f924343f8",
     "grade": false,
     "grade_id": "cell-e7a1be24b4a963b2",
     "locked": true,
     "schema_version": 3,
     "solution": false,
     "task": false
    }
   },
   "source": [
    "#### Part B\n",
    "A manufacturing company produces metal bushings.  One out of every 10 (10%) of the bushings do not conform to specifications.  What is the probability that, of 10 bushings produced, exactly 7 of them are to specification?  Store your final answer in the variable `PartB`."
   ]
  },
  {
   "cell_type": "code",
   "execution_count": 2,
   "id": "11d96a3a",
   "metadata": {
    "deletable": false,
    "nbgrader": {
     "cell_type": "code",
     "checksum": "8437cf043def67fa8719e49b7b120b41",
     "grade": false,
     "grade_id": "cell-5c89068864486f55",
     "locked": false,
     "schema_version": 3,
     "solution": true,
     "task": false
    }
   },
   "outputs": [
    {
     "name": "stdout",
     "output_type": "stream",
     "text": [
      "[1] 0.05739563\n"
     ]
    }
   ],
   "source": [
    "# YOUR CODE HERE\n",
    "\n",
    "\n",
    "PartB <- dbinom(7, size = 10, prob = 0.9)\n",
    "print(PartB)"
   ]
  },
  {
   "cell_type": "code",
   "execution_count": null,
   "id": "464c0983",
   "metadata": {
    "deletable": false,
    "editable": false,
    "nbgrader": {
     "cell_type": "code",
     "checksum": "3779fb27e159149adde4ab462957dd6a",
     "grade": true,
     "grade_id": "cell-b9251d8b17d746ff",
     "locked": true,
     "points": 1,
     "schema_version": 3,
     "solution": false,
     "task": false
    }
   },
   "outputs": [],
   "source": []
  },
  {
   "cell_type": "markdown",
   "id": "09f1e7a2",
   "metadata": {
    "deletable": false,
    "editable": false,
    "nbgrader": {
     "cell_type": "markdown",
     "checksum": "b929b45a87b1ae1e99f60a822b423d10",
     "grade": false,
     "grade_id": "cell-7cb6fa10631e30a1",
     "locked": true,
     "schema_version": 3,
     "solution": false,
     "task": false
    }
   },
   "source": [
    "#### Part C\n",
    "A manufacturing company produces metal bushings. One out of every 10 (10%) of the bushings do not conform to specifications. What is the probability that, of 10 bushings produced, at least 6 of them are to specification? Store your final answer in the variable `PartC`."
   ]
  },
  {
   "cell_type": "code",
   "execution_count": 3,
   "id": "d6b9f60d",
   "metadata": {
    "deletable": false,
    "nbgrader": {
     "cell_type": "code",
     "checksum": "f99f03042213185c0ff696506c0269c6",
     "grade": false,
     "grade_id": "cell-504d19f91e7bab54",
     "locked": false,
     "schema_version": 3,
     "solution": true,
     "task": false
    }
   },
   "outputs": [
    {
     "data": {
      "text/html": [
       "0.9983650626"
      ],
      "text/latex": [
       "0.9983650626"
      ],
      "text/markdown": [
       "0.9983650626"
      ],
      "text/plain": [
       "[1] 0.9983651"
      ]
     },
     "metadata": {},
     "output_type": "display_data"
    }
   ],
   "source": [
    "# Probability of a bushing conforming to specification\n",
    "p <- 0.9\n",
    "\n",
    "# Number of trials (bushings produced)\n",
    "n <- 10\n",
    "\n",
    "# Calculate the probability of at least 6 conforming using binomial distribution\n",
    "PartC <- sum(dbinom(6:n, size = n, prob = p))\n",
    "\n",
    "# Display the result\n",
    "PartC\n"
   ]
  },
  {
   "cell_type": "code",
   "execution_count": null,
   "id": "084b9fec",
   "metadata": {
    "deletable": false,
    "editable": false,
    "nbgrader": {
     "cell_type": "code",
     "checksum": "1775e5c6fc8bef807e1aa95952ce7d94",
     "grade": true,
     "grade_id": "cell-3c0a6c13bf432fe7",
     "locked": true,
     "points": 1,
     "schema_version": 3,
     "solution": false,
     "task": false
    }
   },
   "outputs": [],
   "source": []
  },
  {
   "cell_type": "markdown",
   "id": "a5057251",
   "metadata": {
    "deletable": false,
    "editable": false,
    "nbgrader": {
     "cell_type": "markdown",
     "checksum": "49a621aac16ad96e4ec5ef4bef49d9b9",
     "grade": false,
     "grade_id": "cell-e77162c81bbf1d46",
     "locked": true,
     "schema_version": 3,
     "solution": false,
     "task": false
    }
   },
   "source": [
    "#### Part D\n",
    "A manufacturing company produces metal bushings. One out of every 10 (10%) of the bushings do not conform to specifications.  If the company needs to produce 10 bushings that meet specifications, what is the probability that the 10th success will occur by the 12th bushing that is manufactured?  Store your final answer in the variable `PartD`."
   ]
  },
  {
   "cell_type": "code",
   "execution_count": 4,
   "id": "11e09e35",
   "metadata": {
    "deletable": false,
    "nbgrader": {
     "cell_type": "code",
     "checksum": "8d5dcdea264f1ee68a4697a55b26f08a",
     "grade": false,
     "grade_id": "cell-e1fa2a9528fe5467",
     "locked": false,
     "schema_version": 3,
     "solution": true,
     "task": false
    }
   },
   "outputs": [
    {
     "name": "stdout",
     "output_type": "stream",
     "text": [
      "[1] 0.88913\n"
     ]
    }
   ],
   "source": [
    "# YOUR CODE HERE\n",
    "\n",
    "\n",
    "PartD <- pnbinom(12 - 10, size = 10, prob = 0.9)\n",
    "print(PartD)"
   ]
  },
  {
   "cell_type": "code",
   "execution_count": null,
   "id": "32042e4c",
   "metadata": {
    "deletable": false,
    "editable": false,
    "nbgrader": {
     "cell_type": "code",
     "checksum": "e70b1c77d82b6b33bc03268e1cc073f5",
     "grade": true,
     "grade_id": "cell-537b2e83d5224896",
     "locked": true,
     "points": 1,
     "schema_version": 3,
     "solution": false,
     "task": false
    }
   },
   "outputs": [],
   "source": []
  },
  {
   "cell_type": "markdown",
   "id": "831e6546",
   "metadata": {
    "deletable": false,
    "editable": false,
    "nbgrader": {
     "cell_type": "markdown",
     "checksum": "729b1931015b38c1c4d6e38b8870c3e0",
     "grade": false,
     "grade_id": "cell-85dacadd03d60af4",
     "locked": true,
     "schema_version": 3,
     "solution": false,
     "task": false
    }
   },
   "source": [
    "#### Part E\n",
    "Sally receives emails randomly throughout the day, and these discrete events occur on a continuous time interval (thus, can be modeled by a Poisson distribution).  If she receives, on average, 5 emails per hour, what is the probability that she will receive at most 7 emails between 3:00-5:00 pm on a given day (i.e., a 2-hour time period)?  Store your final answer in the variable `PartE`."
   ]
  },
  {
   "cell_type": "code",
   "execution_count": 5,
   "id": "f61ae0b0",
   "metadata": {
    "deletable": false,
    "nbgrader": {
     "cell_type": "code",
     "checksum": "0f287e7bdf00313086d741912eecd621",
     "grade": false,
     "grade_id": "cell-c92ad56fc420a0c7",
     "locked": false,
     "schema_version": 3,
     "solution": true,
     "task": false
    }
   },
   "outputs": [
    {
     "name": "stdout",
     "output_type": "stream",
     "text": [
      "[1] 0.2202206\n"
     ]
    }
   ],
   "source": [
    "# YOUR CODE HERE\n",
    "\n",
    "\n",
    "PartE <- ppois(7, lambda = 10)\n",
    "print(PartE)"
   ]
  },
  {
   "cell_type": "code",
   "execution_count": null,
   "id": "56154288",
   "metadata": {
    "deletable": false,
    "editable": false,
    "nbgrader": {
     "cell_type": "code",
     "checksum": "5d6fbaa34011509c3296fbb83235cea7",
     "grade": true,
     "grade_id": "cell-20f3c7bb66357a4d",
     "locked": true,
     "points": 1,
     "schema_version": 3,
     "solution": false,
     "task": false
    }
   },
   "outputs": [],
   "source": []
  },
  {
   "cell_type": "markdown",
   "id": "f379d302",
   "metadata": {
    "deletable": false,
    "editable": false,
    "nbgrader": {
     "cell_type": "markdown",
     "checksum": "9a77949bd773644409c6426fa6d2571a",
     "grade": false,
     "grade_id": "cell-e58aaec1f617f406",
     "locked": true,
     "schema_version": 3,
     "solution": false,
     "task": false
    }
   },
   "source": [
    "#### Part F\n",
    "Male human height in the Netherlands is a normally distributed variable with mean 6 feet (72 inches) and standard deviation 4 inches.  What is the probability that a single randomly chosen man in the Netherlands will have a height of greater than 77 inches (6'5\")?  Store your final answer in the variable `PartF`."
   ]
  },
  {
   "cell_type": "code",
   "execution_count": 6,
   "id": "90abfa52",
   "metadata": {
    "deletable": false,
    "nbgrader": {
     "cell_type": "code",
     "checksum": "4759c7649eb9c0fbebb00eaf8d04b9e9",
     "grade": false,
     "grade_id": "cell-11bed167ba42887f",
     "locked": false,
     "schema_version": 3,
     "solution": true,
     "task": false
    }
   },
   "outputs": [
    {
     "name": "stdout",
     "output_type": "stream",
     "text": [
      "[1] 0.1056498\n"
     ]
    }
   ],
   "source": [
    "# YOUR CODE HERE\n",
    "\n",
    "\n",
    "PartF <- 1 - pnorm(77, mean = 72, sd = 4)\n",
    "print(PartF)"
   ]
  },
  {
   "cell_type": "code",
   "execution_count": null,
   "id": "fab4edb9",
   "metadata": {
    "deletable": false,
    "editable": false,
    "nbgrader": {
     "cell_type": "code",
     "checksum": "504b16fca3e743251b9ef25402b81252",
     "grade": true,
     "grade_id": "cell-7336b9de31b8f6ec",
     "locked": true,
     "points": 1,
     "schema_version": 3,
     "solution": false,
     "task": false
    }
   },
   "outputs": [],
   "source": []
  },
  {
   "cell_type": "markdown",
   "id": "11971cee",
   "metadata": {
    "deletable": false,
    "editable": false,
    "nbgrader": {
     "cell_type": "markdown",
     "checksum": "d01efc21b756bd0457551e35a40f5634",
     "grade": false,
     "grade_id": "cell-3a54e2636964f099",
     "locked": true,
     "schema_version": 3,
     "solution": false,
     "task": false
    }
   },
   "source": [
    "#### Part G\n",
    "Male human height in the Netherlands is a normally distributed variable with mean 6 feet (72 inches) and standard deviation 4 inches.  A third (1/3) of men in the Netherlands will have a height of greater than what value, in inches?  Store your final answer in the variable `PartG`."
   ]
  },
  {
   "cell_type": "code",
   "execution_count": 7,
   "id": "84bf3feb",
   "metadata": {
    "deletable": false,
    "nbgrader": {
     "cell_type": "code",
     "checksum": "6653fead91f6b1cc8b701320d666fda0",
     "grade": false,
     "grade_id": "cell-da237927b42d1ae7",
     "locked": false,
     "schema_version": 3,
     "solution": true,
     "task": false
    }
   },
   "outputs": [
    {
     "name": "stdout",
     "output_type": "stream",
     "text": [
      "[1] 73.72291\n"
     ]
    }
   ],
   "source": [
    "# YOUR CODE HERE\n",
    "\n",
    "\n",
    "PartG <- qnorm(2/3, mean = 72, sd = 4)\n",
    "print(PartG)"
   ]
  },
  {
   "cell_type": "code",
   "execution_count": null,
   "id": "be27f5f0",
   "metadata": {
    "deletable": false,
    "editable": false,
    "nbgrader": {
     "cell_type": "code",
     "checksum": "e683154e45df290948fd9dcaa59306a2",
     "grade": true,
     "grade_id": "cell-1627a8a71f08abd8",
     "locked": true,
     "points": 1,
     "schema_version": 3,
     "solution": false,
     "task": false
    }
   },
   "outputs": [],
   "source": []
  },
  {
   "cell_type": "markdown",
   "id": "a49fb520",
   "metadata": {
    "deletable": false,
    "editable": false,
    "nbgrader": {
     "cell_type": "markdown",
     "checksum": "5d34dcc520d5abea040110e651e0a7eb",
     "grade": false,
     "grade_id": "cell-64a071c90b4ce9ba",
     "locked": true,
     "schema_version": 3,
     "solution": false,
     "task": false
    }
   },
   "source": [
    "#### Part H\n",
    "What is $t_{0.05,8}$?  Store your final answer in the variable `PartH`."
   ]
  },
  {
   "cell_type": "code",
   "execution_count": 8,
   "id": "fc2c73ad",
   "metadata": {
    "deletable": false,
    "nbgrader": {
     "cell_type": "code",
     "checksum": "0813e7cffffdb5eaf749b657a3acc45a",
     "grade": false,
     "grade_id": "cell-e55ff4cf4250b4c0",
     "locked": false,
     "schema_version": 3,
     "solution": true,
     "task": false
    }
   },
   "outputs": [
    {
     "name": "stdout",
     "output_type": "stream",
     "text": [
      "[1] 1.859548\n"
     ]
    }
   ],
   "source": [
    "# YOUR CODE HERE\n",
    "\n",
    "\n",
    "PartH <- qt(0.95, df = 8)\n",
    "print(PartH)"
   ]
  },
  {
   "cell_type": "code",
   "execution_count": null,
   "id": "db286129",
   "metadata": {
    "deletable": false,
    "editable": false,
    "nbgrader": {
     "cell_type": "code",
     "checksum": "cd01757cce51da989511468a3dd903a3",
     "grade": true,
     "grade_id": "cell-ec57b60fbe24e48e",
     "locked": true,
     "points": 1,
     "schema_version": 3,
     "solution": false,
     "task": false
    }
   },
   "outputs": [],
   "source": []
  },
  {
   "cell_type": "markdown",
   "id": "16e386f2",
   "metadata": {
    "deletable": false,
    "editable": false,
    "nbgrader": {
     "cell_type": "markdown",
     "checksum": "7d2f6241ca0dbbb4bd18d4cf5543101f",
     "grade": false,
     "grade_id": "cell-9c4d8288d6f891e4",
     "locked": true,
     "schema_version": 3,
     "solution": false,
     "task": false
    }
   },
   "source": [
    "#### Part I\n",
    "What is $\\chi^2_{0.9,15}$?  Store your final answer in the variable `PartI`."
   ]
  },
  {
   "cell_type": "code",
   "execution_count": 9,
   "id": "e82a5b98",
   "metadata": {
    "deletable": false,
    "nbgrader": {
     "cell_type": "code",
     "checksum": "e93ba1b5fa0d74388592bc3a6e2908bb",
     "grade": false,
     "grade_id": "cell-174e85d2f6af6784",
     "locked": false,
     "schema_version": 3,
     "solution": true,
     "task": false
    }
   },
   "outputs": [
    {
     "name": "stdout",
     "output_type": "stream",
     "text": [
      "[1] 22.30713\n"
     ]
    }
   ],
   "source": [
    "# YOUR CODE HERE\n",
    "\n",
    "\n",
    "PartI <- qchisq(0.9, df = 15)\n",
    "print(PartI)"
   ]
  },
  {
   "cell_type": "code",
   "execution_count": null,
   "id": "f0b15cab",
   "metadata": {
    "deletable": false,
    "editable": false,
    "nbgrader": {
     "cell_type": "code",
     "checksum": "67971299d773b60c1fce7e3cc8ec3d74",
     "grade": true,
     "grade_id": "cell-6a09133f2959495e",
     "locked": true,
     "points": 1,
     "schema_version": 3,
     "solution": false,
     "task": false
    }
   },
   "outputs": [],
   "source": []
  },
  {
   "cell_type": "markdown",
   "id": "fff51ca2",
   "metadata": {
    "deletable": false,
    "editable": false,
    "nbgrader": {
     "cell_type": "markdown",
     "checksum": "b7f56169b5655d1f4aa0a0d99ef08d53",
     "grade": false,
     "grade_id": "cell-1a149ed021690f99",
     "locked": true,
     "schema_version": 3,
     "solution": false,
     "task": false
    }
   },
   "source": [
    "#### Part J\n",
    "What is $f_{0.05,13,17}$?  Store your final answer in the variable `PartJ`."
   ]
  },
  {
   "cell_type": "code",
   "execution_count": 10,
   "id": "8dabe63f",
   "metadata": {
    "deletable": false,
    "nbgrader": {
     "cell_type": "code",
     "checksum": "9675619d14eef2cd2dcb51923565f7fc",
     "grade": false,
     "grade_id": "cell-31cf4a657e93e6e6",
     "locked": false,
     "schema_version": 3,
     "solution": true,
     "task": false
    }
   },
   "outputs": [
    {
     "name": "stdout",
     "output_type": "stream",
     "text": [
      "[1] 2.353063\n"
     ]
    }
   ],
   "source": [
    "# YOUR CODE HERE\n",
    "\n",
    "\n",
    "PartJ <- qf(0.95, df1 = 13, df2 = 17)\n",
    "print(PartJ)"
   ]
  },
  {
   "cell_type": "code",
   "execution_count": null,
   "id": "5acf820e",
   "metadata": {
    "deletable": false,
    "editable": false,
    "nbgrader": {
     "cell_type": "code",
     "checksum": "4a19ac0bde3ae21d809744c71a6c5f44",
     "grade": true,
     "grade_id": "cell-9a82b91773188829",
     "locked": true,
     "points": 1,
     "schema_version": 3,
     "solution": false,
     "task": false
    }
   },
   "outputs": [],
   "source": []
  },
  {
   "cell_type": "code",
   "execution_count": null,
   "id": "5f75f034",
   "metadata": {},
   "outputs": [],
   "source": []
  }
 ],
 "metadata": {
  "kernelspec": {
   "display_name": "R",
   "language": "R",
   "name": "ir"
  },
  "language_info": {
   "codemirror_mode": "r",
   "file_extension": ".r",
   "mimetype": "text/x-r-source",
   "name": "R",
   "pygments_lexer": "r",
   "version": "4.2.2"
  }
 },
 "nbformat": 4,
 "nbformat_minor": 5
}
