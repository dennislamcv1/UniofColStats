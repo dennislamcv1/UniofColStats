{
 "cells": [
  {
   "cell_type": "markdown",
   "id": "dc118a2b",
   "metadata": {
    "deletable": false,
    "editable": false,
    "nbgrader": {
     "cell_type": "markdown",
     "checksum": "d4f57e62e48439498b6ca77b2cc06534",
     "grade": false,
     "grade_id": "cell-88c0334a844eb607",
     "locked": true,
     "schema_version": 3,
     "solution": false,
     "task": false
    }
   },
   "source": [
    "#### GENERAL INSTRUCTIONS: Place your code in each cell to perform the required calculations.  Ctrl-Enter will execute all lines of code in that cell. Once you are satisfied with your answer (you may work through it as much as you'd like), click on the \"Submit Assignment\" button in the upper right corner and your assignment will be graded."
   ]
  },
  {
   "cell_type": "markdown",
   "id": "affdd972",
   "metadata": {
    "deletable": false,
    "editable": false,
    "nbgrader": {
     "cell_type": "markdown",
     "checksum": "737a7f1311352856fa30aec7595e3cf0",
     "grade": false,
     "grade_id": "cell-ad0da86ed8a743b5",
     "locked": true,
     "schema_version": 3,
     "solution": false,
     "task": false
    }
   },
   "source": [
    "#### Part A\n",
    "Using the following two sets of sample data from populations A and B, calculate the P-value for a one-tailed comparison of means of the two populations.  It is known that the variance of population A is 100 and that of population B is 250.  Store your answer in the variable `PartA` and make sure that your result is a single scalar value (e.g., not a vector or array).\n",
    "\n",
    "A = [128,117,121,132,125,111,123,129]\\\n",
    "B = [143,135,139,128,120,155,141,126,151,115]\n",
    "\n",
    "HINT: For information on how to store the P-value as a single variable, see the \"Comparison of Means, Variance Known\" section of the Week 5 Cheat Sheet."
   ]
  },
  {
   "cell_type": "code",
   "execution_count": 1,
   "id": "692b0044",
   "metadata": {
    "deletable": false,
    "nbgrader": {
     "cell_type": "code",
     "checksum": "8a10b997d59b7b0d547258f4e682231d",
     "grade": false,
     "grade_id": "cell-cd57157927d30221",
     "locked": false,
     "schema_version": 3,
     "solution": true,
     "task": false
    }
   },
   "outputs": [
    {
     "name": "stdout",
     "output_type": "stream",
     "text": [
      "[1] 0.02454802\n"
     ]
    }
   ],
   "source": [
    "# Given data\n",
    "A <- c(128, 117, 121, 132, 125, 111, 123, 129)\n",
    "B <- c(143, 135, 139, 128, 120, 155, 141, 126, 151, 115)\n",
    "\n",
    "# Known population variances\n",
    "var_A <- 100\n",
    "var_B <- 250\n",
    "\n",
    "# Sample sizes\n",
    "n_A <- length(A)\n",
    "n_B <- length(B)\n",
    "\n",
    "# Sample means\n",
    "mean_A <- mean(A)\n",
    "mean_B <- mean(B)\n",
    "\n",
    "# Standard error of difference in means\n",
    "SE_diff <- sqrt(var_A / n_A + var_B / n_B)\n",
    "\n",
    "# Z-score calculation\n",
    "Z <- (mean_A - mean_B) / SE_diff\n",
    "\n",
    "# One-tailed P-value (assuming A < B)\n",
    "PartA <- pnorm(Z)\n",
    "\n",
    "# Print result\n",
    "print(PartA)\n"
   ]
  },
  {
   "cell_type": "code",
   "execution_count": null,
   "id": "5854bf37",
   "metadata": {
    "deletable": false,
    "editable": false,
    "nbgrader": {
     "cell_type": "code",
     "checksum": "81551db1a16b570a6b2fd7c7e78f4e01",
     "grade": true,
     "grade_id": "cell-a2a88ec4759139ad",
     "locked": true,
     "points": 2,
     "schema_version": 3,
     "solution": false,
     "task": false
    }
   },
   "outputs": [],
   "source": []
  },
  {
   "cell_type": "markdown",
   "id": "5e6a95c1",
   "metadata": {
    "deletable": false,
    "editable": false,
    "nbgrader": {
     "cell_type": "markdown",
     "checksum": "77b1bd6fb8bab0d61e1d0d94477ace3d",
     "grade": false,
     "grade_id": "cell-c5075e5334ee7f87",
     "locked": true,
     "schema_version": 3,
     "solution": false,
     "task": false
    }
   },
   "source": [
    "#### Part B\n",
    "A marketing company has been developing a new marketing campaign for a restaurant.  Daily sales (in thousands of dollars) for 8 days before the marketing campaign (call this set A) were: \n",
    "\n",
    "5.4, 6.3, 5.9, 5.6, 6.2, 7.1, 6.1, and 5.5\n",
    "\n",
    "Daily sales (in thousands of dollars) for 5 days following the marketing campaign (call this set B) were:\n",
    "\n",
    "6.8, 7.5, 7.1, 6.5, and 6.9\n",
    "\n",
    "We wish to compare the means of these two populations (before and after the marketing campaign).  However, the first step is to determine if the variances are equal or unequal.  So, we must compare the variances using the following hypothesis test:\n",
    "\n",
    "$H_0: \\sigma^2_A = \\sigma^2_B$\\\n",
    "$H_1: \\sigma^2_A > \\sigma^2_B$\\\n",
    "(You will see that the variance of set A is greater than that of set B, which indicates that we should perform an upper-tailed test)\n",
    "\n",
    "Perform a one-tailed hypothesis test on the comparison of the two variances.  What is the P-value for the test?  Store your answer in the variable `PartB` and make sure that your result is a single scalar value (e.g., not a vector or array).\n",
    "\n",
    "HINT: For information on how to store the P-value as a single variable, see the \"Comparison of Variances\" section of the Week 5 Cheat Sheet."
   ]
  },
  {
   "cell_type": "code",
   "execution_count": 2,
   "id": "04eadd5d",
   "metadata": {
    "deletable": false,
    "nbgrader": {
     "cell_type": "code",
     "checksum": "5b042a2e30ea9ea7cafb4ae7c4c97522",
     "grade": false,
     "grade_id": "cell-c237ab33e3410ba9",
     "locked": false,
     "schema_version": 3,
     "solution": true,
     "task": false
    }
   },
   "outputs": [
    {
     "name": "stdout",
     "output_type": "stream",
     "text": [
      "[1] 0.2322094\n"
     ]
    }
   ],
   "source": [
    "setA <- c(5.4,6.3,5.9,5.6,6.2,7.1,6.1,5.5)\n",
    "setB <- c(6.8,7.5,7.1,6.5,6.9)\n",
    "\n",
    "# Sample sizes\n",
    "n_A <- length(setA)\n",
    "n_B <- length(setB)\n",
    "\n",
    "# Sample variances\n",
    "var_A <- var(setA)\n",
    "var_B <- var(setB)\n",
    "\n",
    "# Compute F-statistic\n",
    "F_stat <- var_A / var_B\n",
    "\n",
    "# One-tailed P-value (upper tail test)\n",
    "PartB <- 1 - pf(F_stat, df1 = n_A - 1, df2 = n_B - 1)\n",
    "\n",
    "# Print result\n",
    "print(PartB)"
   ]
  },
  {
   "cell_type": "code",
   "execution_count": null,
   "id": "6c08b760",
   "metadata": {
    "deletable": false,
    "editable": false,
    "nbgrader": {
     "cell_type": "code",
     "checksum": "9acebe8716fb02f5646bc02c2c2a4e0e",
     "grade": true,
     "grade_id": "cell-b84b6b7b5e587899",
     "locked": true,
     "points": 2,
     "schema_version": 3,
     "solution": false,
     "task": false
    }
   },
   "outputs": [],
   "source": []
  },
  {
   "cell_type": "markdown",
   "id": "4d3b2e13",
   "metadata": {
    "deletable": false,
    "editable": false,
    "nbgrader": {
     "cell_type": "markdown",
     "checksum": "f99d042b6bf8987acf729f0154ebc496",
     "grade": false,
     "grade_id": "cell-c25d171736dff53a",
     "locked": true,
     "schema_version": 3,
     "solution": false,
     "task": false
    }
   },
   "source": [
    "#### Part C\n",
    "Based on your conclusion for Part B above, is this a \"variance equal\" case or \"variance unequal\" case?  Store your answer in the variable `PartC` and use quotes.  You only need to write one of the two lines that follow (simply copy/paste your decision), depending on your finding above:\n",
    "\n",
    "PartC <- 'Variance Equal'\\\n",
    "OR\\\n",
    "PartC <- 'Variance Unequal'"
   ]
  },
  {
   "cell_type": "code",
   "execution_count": 3,
   "id": "225593dc",
   "metadata": {
    "deletable": false,
    "nbgrader": {
     "cell_type": "code",
     "checksum": "05eded0c91df8ef05cb129c787ed4149",
     "grade": false,
     "grade_id": "cell-5ba72af9f25e26b0",
     "locked": false,
     "schema_version": 3,
     "solution": true,
     "task": false
    }
   },
   "outputs": [
    {
     "name": "stdout",
     "output_type": "stream",
     "text": [
      "[1] \"Variance Equal\"\n"
     ]
    }
   ],
   "source": [
    "# your code here\n",
    "\n",
    "\n",
    "PartC <- 'Variance Equal'\n",
    "print(PartC)"
   ]
  },
  {
   "cell_type": "code",
   "execution_count": null,
   "id": "0d1272ec",
   "metadata": {
    "deletable": false,
    "editable": false,
    "nbgrader": {
     "cell_type": "code",
     "checksum": "6511fb4c129adc9531506622ba005ebe",
     "grade": true,
     "grade_id": "cell-98026284209d04be",
     "locked": true,
     "points": 1,
     "schema_version": 3,
     "solution": false,
     "task": false
    }
   },
   "outputs": [],
   "source": []
  },
  {
   "cell_type": "markdown",
   "id": "80fd396f",
   "metadata": {
    "deletable": false,
    "editable": false,
    "nbgrader": {
     "cell_type": "markdown",
     "checksum": "cb89b4fb8a5eb5bacc0d139d776082b2",
     "grade": false,
     "grade_id": "cell-663ac3031297435c",
     "locked": true,
     "schema_version": 3,
     "solution": false,
     "task": false
    }
   },
   "source": [
    "#### Part D\n",
    "A marketing company has been developing a new marketing campaign for a restaurant.  Daily sales (in thousands of dollars) for 8 days before the marketing campaign (call this set A) were: \n",
    "\n",
    "5.4, 6.3, 5.9, 5.6, 6.2, 7.1, 6.1, and 5.5\n",
    "\n",
    "Daily sales (in thousands of dollars) for 5 days following the marketing campaign (call this set B) were:\n",
    "\n",
    "6.8, 7.5, 7.1, 6.5, and 6.9\n",
    "\n",
    "We wish to compare the means of these two populations (before and after the marketing campaign) using the following hypothesis test:\n",
    "\n",
    "$H_0: \\mu_A = \\mu_B$\\\n",
    "$H_1: \\mu_A < \\mu_B$\\\n",
    "(You will see that the sample average of set A is less than that of set B, which indicates that we should perform a lower-tailed test)\n",
    "\n",
    "Perform a one-tailed hypothesis test on the mean of the two populations using your conclusion from Part C to guide your solution process (i.e., variance equal vs. variance unequal).  What is the P-value for the test?  Store your answer in the variable `PartD` and make sure that your result is a single scalar value (e.g., not a vector or array).\n",
    "\n",
    "HINT: For information on how to store the P-value as a single variable, see the \"Comparison of Means, Variance Unknown\" section of the Week 5 Cheat Sheet."
   ]
  },
  {
   "cell_type": "code",
   "execution_count": 4,
   "id": "b8e788d0",
   "metadata": {
    "deletable": false,
    "nbgrader": {
     "cell_type": "code",
     "checksum": "bd9e3c78e0d7896cae460e799df0936a",
     "grade": false,
     "grade_id": "cell-bf8f0cb6f0ea8525",
     "locked": false,
     "schema_version": 3,
     "solution": true,
     "task": false
    }
   },
   "outputs": [
    {
     "name": "stdout",
     "output_type": "stream",
     "text": [
      "[1] 0.00314437\n"
     ]
    }
   ],
   "source": [
    "# Given data\n",
    "setA <- c(5.4,6.3,5.9,5.6,6.2,7.1,6.1,5.5)\n",
    "setB <- c(6.8,7.5,7.1,6.5,6.9)\n",
    "\n",
    "# Sample sizes\n",
    "n_A <- length(setA)\n",
    "n_B <- length(setB)\n",
    "\n",
    "# Sample means\n",
    "mean_A <- mean(setA)\n",
    "mean_B <- mean(setB)\n",
    "\n",
    "# Sample variances\n",
    "var_A <- var(setA)\n",
    "var_B <- var(setB)\n",
    "\n",
    "# Compute pooled variance\n",
    "S_p2 <- ((n_A - 1) * var_A + (n_B - 1) * var_B) / (n_A + n_B - 2)\n",
    "\n",
    "# Compute standard error\n",
    "SE <- sqrt(S_p2 * (1/n_A + 1/n_B))\n",
    "\n",
    "# Compute t-statistic\n",
    "t_stat <- (mean_A - mean_B) / SE\n",
    "\n",
    "# Compute one-tailed P-value (lower-tailed test)\n",
    "PartD <- pt(t_stat, df = n_A + n_B - 2)\n",
    "\n",
    "# Print result\n",
    "print(PartD)\n"
   ]
  },
  {
   "cell_type": "code",
   "execution_count": null,
   "id": "d9f8a476",
   "metadata": {
    "deletable": false,
    "editable": false,
    "nbgrader": {
     "cell_type": "code",
     "checksum": "5e02365f36b6b1da13bfdee923520e28",
     "grade": true,
     "grade_id": "cell-a1510acb2efcfc26",
     "locked": true,
     "points": 2,
     "schema_version": 3,
     "solution": false,
     "task": false
    }
   },
   "outputs": [],
   "source": []
  },
  {
   "cell_type": "markdown",
   "id": "160f3f82",
   "metadata": {
    "deletable": false,
    "editable": false,
    "nbgrader": {
     "cell_type": "markdown",
     "checksum": "6815de177f2fecdb89cb4a3c3258fa7c",
     "grade": false,
     "grade_id": "cell-2b1944dd9dade6b8",
     "locked": true,
     "schema_version": 3,
     "solution": false,
     "task": false
    }
   },
   "source": [
    "#### Part E\n",
    "An instructor wishes to determine if two quizzes, Quiz A and Quiz B, are similar in difficulty.  She gives the quiz to 12 students in her class on the same day.  The data for each student are available in a file (same directory as this file, so the file path to import is simply the file name) called \"QuizData.xlsx\":\n",
    "\n",
    "Import the data using the **read_excel** function and perform a one-tailed paired t-test to determine if one of the quizzes (you decide whether it will be a lower-tailed or upper-tailed test) is significantly more difficult than the other.  Calculate a P-value for the test and store in the variable `PartE`.  Make sure that your result is a single scalar value (e.g., not a vector or array).\n",
    "\n",
    "HINT: For information on how to store the P-value of a paired T-test as a single variable, see the \"Paired T Tests\" section of the Week 5 Cheat Sheet."
   ]
  },
  {
   "cell_type": "code",
   "execution_count": 5,
   "id": "2fde23f8",
   "metadata": {
    "deletable": false,
    "nbgrader": {
     "cell_type": "code",
     "checksum": "93cb5bb3622c60eeddfa61b893406063",
     "grade": false,
     "grade_id": "cell-66fee5acdf0d549a",
     "locked": false,
     "schema_version": 3,
     "solution": true,
     "task": false
    }
   },
   "outputs": [
    {
     "name": "stdout",
     "output_type": "stream",
     "text": [
      "[1] 0.1154129\n"
     ]
    }
   ],
   "source": [
    "# Load necessary library\n",
    "library(readxl)\n",
    "\n",
    "# Import the data\n",
    "quiz_data <- read_excel(\"QuizData.xlsx\")\n",
    "\n",
    "# View first few rows to confirm structure\n",
    "# head(quiz_data)\n",
    "\n",
    "# Perform a paired t-test (decide lower/upper-tailed based on data)\n",
    "t_test_result <- t.test(quiz_data$QuizA, quiz_data$QuizB, \n",
    "                        paired = TRUE, alternative = \"greater\")\n",
    "\n",
    "# Extract P-value\n",
    "PartE <- t_test_result$p.value\n",
    "\n",
    "# Print result\n",
    "print(PartE)\n"
   ]
  },
  {
   "cell_type": "code",
   "execution_count": null,
   "id": "757b4f5a",
   "metadata": {
    "deletable": false,
    "editable": false,
    "nbgrader": {
     "cell_type": "code",
     "checksum": "b0cbbf9c954ee3e9dc5c99bc513a2df5",
     "grade": true,
     "grade_id": "cell-e6a9ce772a09c4b1",
     "locked": true,
     "points": 2,
     "schema_version": 3,
     "solution": false,
     "task": false
    }
   },
   "outputs": [],
   "source": []
  },
  {
   "cell_type": "markdown",
   "id": "c50bb257",
   "metadata": {
    "deletable": false,
    "editable": false,
    "nbgrader": {
     "cell_type": "markdown",
     "checksum": "ebbf36be62159fbdb520ea44c52aa301",
     "grade": false,
     "grade_id": "cell-950e22c8ab1c15c6",
     "locked": true,
     "schema_version": 3,
     "solution": false,
     "task": false
    }
   },
   "source": [
    "#### Part F\n",
    "Based on your conclusion for Part E above, which of the following options (multiple choice) correctly describes the conclusion that you would make based on this test using alpha = 0.05?\n",
    "\n",
    "A: Test A is significantly more difficult than Test B.\\\n",
    "B: Test B is significantly more difficult than Test A.\\\n",
    "C: There are no differences in difficulty of the two tests.\n",
    "\n",
    "Store your answer in the variable `PartF`.  You only need to write one of the three lines that follow (simply copy/paste your decision):\n",
    "\n",
    "PartF <- 'A'\\\n",
    "OR\\\n",
    "PartF <- 'B'\\\n",
    "OR\\\n",
    "PartF <- 'C'"
   ]
  },
  {
   "cell_type": "code",
   "execution_count": 6,
   "id": "da849ad7",
   "metadata": {
    "deletable": false,
    "nbgrader": {
     "cell_type": "code",
     "checksum": "71d6a51cef45e22caa580360e3eb4f40",
     "grade": false,
     "grade_id": "cell-0271392a6730eba4",
     "locked": false,
     "schema_version": 3,
     "solution": true,
     "task": false
    }
   },
   "outputs": [
    {
     "name": "stdout",
     "output_type": "stream",
     "text": [
      "[1] \"C\"\n"
     ]
    }
   ],
   "source": [
    "# your code here\n",
    "\n",
    "\n",
    "PartF <- 'C'\n",
    "print(PartF)"
   ]
  },
  {
   "cell_type": "code",
   "execution_count": null,
   "id": "4ab7c256",
   "metadata": {
    "deletable": false,
    "editable": false,
    "nbgrader": {
     "cell_type": "code",
     "checksum": "b0948c71dc9143343df18b9abc3d9dfd",
     "grade": true,
     "grade_id": "cell-0fd141dadacc7db2",
     "locked": true,
     "points": 1,
     "schema_version": 3,
     "solution": false,
     "task": false
    }
   },
   "outputs": [],
   "source": []
  },
  {
   "cell_type": "markdown",
   "id": "6c798df7",
   "metadata": {
    "deletable": false,
    "editable": false,
    "nbgrader": {
     "cell_type": "markdown",
     "checksum": "6eb695840d4bf99c6a48f6124d2a9f31",
     "grade": false,
     "grade_id": "cell-575b7f28415517f8",
     "locked": true,
     "schema_version": 3,
     "solution": false,
     "task": false
    }
   },
   "source": [
    "#### Part G\n",
    "Two medical procedures to improve superficial wound healing are being compared by a medical researcher.  Of the 75 patients who received the first procedure (procedure A), 61 resulted in improved wound healing as compared to no treatment at all.  Of the 39 patients who received the second procedure (procedure B), 24 resulted in improved wound healing as compared to no treatment at all.\n",
    "\n",
    "Perform a hypothesis test on the comparision of binomial proportions.  Use the **prop.test** function in the stats package and be sure to use the optional argument **correct=FALSE**.  Calculate the P-value for a one-tailed test (you choose whether this will be a lower-tailed or upper-tailed test).  Store your answer in the variable `PartG` and make sure that your result is a single scalar value (e.g., not a vector or array).\n",
    "\n",
    "HINT: For information on how to store the P-value of the **prop.test** function in a single variable, see the \"Comparison of Binomial Proportions\" section of the Week 5 Cheat Sheet."
   ]
  },
  {
   "cell_type": "code",
   "execution_count": 7,
   "id": "f06abb24",
   "metadata": {
    "deletable": false,
    "nbgrader": {
     "cell_type": "code",
     "checksum": "0a5d944f865ee690c0a20d44fb6705a2",
     "grade": false,
     "grade_id": "cell-3bc523d5d52ffc72",
     "locked": false,
     "schema_version": 3,
     "solution": true,
     "task": false
    }
   },
   "outputs": [
    {
     "name": "stdout",
     "output_type": "stream",
     "text": [
      "[1] 0.01065948\n"
     ]
    }
   ],
   "source": [
    "# Number of improved cases\n",
    "successes <- c(61, 24)\n",
    "\n",
    "# Total patients in each procedure\n",
    "samples <- c(75, 39)\n",
    "\n",
    "# Perform a one-tailed proportion test (assuming A > B)\n",
    "prop_test_result <- prop.test(successes, samples, alternative = \"greater\", correct = FALSE)\n",
    "\n",
    "# Extract P-value\n",
    "PartG <- prop_test_result$p.value\n",
    "\n",
    "# Print result\n",
    "print(PartG)\n"
   ]
  },
  {
   "cell_type": "code",
   "execution_count": null,
   "id": "b8505d23",
   "metadata": {
    "deletable": false,
    "editable": false,
    "nbgrader": {
     "cell_type": "code",
     "checksum": "5f4060af768c93884a8171c68951387c",
     "grade": true,
     "grade_id": "cell-830445643e55f325",
     "locked": true,
     "points": 2,
     "schema_version": 3,
     "solution": false,
     "task": false
    }
   },
   "outputs": [],
   "source": []
  }
 ],
 "metadata": {
  "kernelspec": {
   "display_name": "R",
   "language": "R",
   "name": "ir"
  },
  "language_info": {
   "codemirror_mode": "r",
   "file_extension": ".r",
   "mimetype": "text/x-r-source",
   "name": "R",
   "pygments_lexer": "r",
   "version": "4.2.2"
  }
 },
 "nbformat": 4,
 "nbformat_minor": 5
}
