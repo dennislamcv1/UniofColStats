{
 "cells": [
  {
   "cell_type": "markdown",
   "id": "2832906d",
   "metadata": {
    "deletable": false,
    "editable": false,
    "nbgrader": {
     "cell_type": "markdown",
     "checksum": "01e676e0da50677ca9ce56d7e5803d64",
     "grade": false,
     "grade_id": "cell-747f7a198773cb68",
     "locked": true,
     "schema_version": 3,
     "solution": false,
     "task": false
    }
   },
   "source": [
    "#### GENERAL INSTRUCTIONS: Place your code in each cell to perform the required calculations.  Ctrl-Enter will execute all lines of code in that cell. Once you are satisfied with your answer (you may work through it as much as you'd like), click on the \"Submit Assignment\" button in the upper right corner and your assignment will be graded."
   ]
  },
  {
   "cell_type": "markdown",
   "id": "68861d7e",
   "metadata": {
    "deletable": false,
    "editable": false,
    "nbgrader": {
     "cell_type": "markdown",
     "checksum": "8732b2011d80455a09cc43a05b10811a",
     "grade": false,
     "grade_id": "cell-fe6b77837afac061",
     "locked": true,
     "schema_version": 3,
     "solution": false,
     "task": false
    }
   },
   "source": [
    "#### Part A\n",
    "The following sample has been obtained for the mean breaking strength of a particular material.\n",
    "\n",
    "x <- c(123,117,119,128,125,121,124,119,116,126)\n",
    "\n",
    "Calculate the P-value of the Anderson-Darling (AD) statistic (hint: **nortest** library) for the data.  Store your answer in the variable `PartA` and make sure that your result is a single scalar value (e.g., not a vector or array)."
   ]
  },
  {
   "cell_type": "code",
   "execution_count": 1,
   "id": "f3c938fe",
   "metadata": {
    "deletable": false,
    "nbgrader": {
     "cell_type": "code",
     "checksum": "e7672b8960dbe4fd4c3bc86982b11bd8",
     "grade": false,
     "grade_id": "cell-be5639861ce4c59c",
     "locked": false,
     "schema_version": 3,
     "solution": true,
     "task": false
    }
   },
   "outputs": [
    {
     "name": "stdout",
     "output_type": "stream",
     "text": [
      "[1] 0.8304076\n"
     ]
    }
   ],
   "source": [
    "# Load required package\n",
    "library(nortest)\n",
    "\n",
    "x <- c(123,117,119,128,125,121,124,119,116,126)\n",
    "\n",
    "# Perform Anderson-Darling test\n",
    "ad_result <- ad.test(x)\n",
    "\n",
    "# Extract the p-value\n",
    "PartA <- ad_result$p.value\n",
    "\n",
    "# Print the result\n",
    "print(PartA)"
   ]
  },
  {
   "cell_type": "code",
   "execution_count": null,
   "id": "9ce9a4ec",
   "metadata": {
    "deletable": false,
    "editable": false,
    "nbgrader": {
     "cell_type": "code",
     "checksum": "54eeb38bb097b272441f6a46e34a579e",
     "grade": true,
     "grade_id": "cell-22dce87c2e221c3f",
     "locked": true,
     "points": 1,
     "schema_version": 3,
     "solution": false,
     "task": false
    }
   },
   "outputs": [],
   "source": []
  },
  {
   "cell_type": "markdown",
   "id": "31abc63e",
   "metadata": {
    "deletable": false,
    "editable": false,
    "nbgrader": {
     "cell_type": "markdown",
     "checksum": "b4c447a94b9cfbb39fb1f2d668b56a49",
     "grade": false,
     "grade_id": "cell-682ec4826ee3d4cd",
     "locked": true,
     "schema_version": 3,
     "solution": false,
     "task": false
    }
   },
   "source": [
    "#### Part B\n",
    "The following sample has been obtained for the mean breaking strength of a particular material.  Assuming that the variance is unknown, what is the lower bound for a 90% confidence interval on the population mean?  Store your answer in the variable `PartB` and make sure that your result is a single scalar value (e.g., not a vector or array).\n",
    "\n",
    "x <- c(123,117,119,128,125,121,124,119,116,126)\n",
    "\n",
    "HINT: See the \"Confidence Interval on the Mean, Variance Unknown\" section of the Week 4 Cheat Sheet for information on storing the confidence interval bounds as single values."
   ]
  },
  {
   "cell_type": "code",
   "execution_count": 2,
   "id": "1d038dc1",
   "metadata": {
    "deletable": false,
    "nbgrader": {
     "cell_type": "code",
     "checksum": "0a88ecbe7ac0f39eaf3ecc28b32e9a8b",
     "grade": false,
     "grade_id": "cell-29d42605817e8166",
     "locked": false,
     "schema_version": 3,
     "solution": true,
     "task": false
    }
   },
   "outputs": [
    {
     "name": "stdout",
     "output_type": "stream",
     "text": [
      "[1] 120.0409\n"
     ]
    }
   ],
   "source": [
    "# Sample data\n",
    "x <- c(123, 117, 119, 128, 125, 121, 124, 119, 116, 126)\n",
    "\n",
    "# Sample size\n",
    "n <- length(x)\n",
    "\n",
    "# Sample mean\n",
    "sample_mean <- mean(x)\n",
    "\n",
    "# Sample standard deviation\n",
    "sample_sd <- sd(x)\n",
    "\n",
    "# Critical value for a 90% confidence interval (one-tailed)\n",
    "alpha <- 0.10\n",
    "t_critical <- qt(1 - alpha, df = n - 1)\n",
    "\n",
    "# Lower bound of the confidence interval\n",
    "lower_bound <- sample_mean - (t_critical * (sample_sd / sqrt(n)))\n",
    "\n",
    "# Store the result in the variable PartB\n",
    "PartB <- lower_bound\n",
    "\n",
    "# Print the result\n",
    "print(PartB)\n"
   ]
  },
  {
   "cell_type": "code",
   "execution_count": null,
   "id": "6a214e31",
   "metadata": {
    "deletable": false,
    "editable": false,
    "nbgrader": {
     "cell_type": "code",
     "checksum": "2f40c6f63cd77b0d41ea405e94f261bc",
     "grade": true,
     "grade_id": "cell-102db131c937bcbb",
     "locked": true,
     "points": 1,
     "schema_version": 3,
     "solution": false,
     "task": false
    }
   },
   "outputs": [],
   "source": []
  },
  {
   "cell_type": "markdown",
   "id": "b678086a",
   "metadata": {
    "deletable": false,
    "editable": false,
    "nbgrader": {
     "cell_type": "markdown",
     "checksum": "d7f3e1dcc5a56b7a29d09d3022a125a8",
     "grade": false,
     "grade_id": "cell-efac7eca682d60e8",
     "locked": true,
     "schema_version": 3,
     "solution": false,
     "task": false
    }
   },
   "source": [
    "#### Part C\n",
    "The following sample has been obtained for the mean breaking strength of a particular material.  Population variance is unknown.\n",
    "\n",
    "x <- c(123,117,119,128,125,121,124,119,116,126)\n",
    "\n",
    "What is the P-value for the following lower-tailed hypothesis test?  Store your answer in the variable `PartC` and make sure that your result is a single scalar value (e.g., not a vector or array).\n",
    "\n",
    "$H_{0}: \\mu = 125$\\\n",
    "$H_{1}: \\mu \\lt 125$\n",
    "\n",
    "HINT: To store the P-value, see the section \"Hypothesis Tests on the Mean, Variance Unknown\" of the Week 4 Cheat Sheet."
   ]
  },
  {
   "cell_type": "code",
   "execution_count": 3,
   "id": "519b0ec6",
   "metadata": {
    "deletable": false,
    "nbgrader": {
     "cell_type": "code",
     "checksum": "f71ebb8fdbe0513eaf7f9c478b581f29",
     "grade": false,
     "grade_id": "cell-53b6f585c17c9d21",
     "locked": false,
     "schema_version": 3,
     "solution": true,
     "task": false
    }
   },
   "outputs": [
    {
     "name": "stdout",
     "output_type": "stream",
     "text": [
      "[1] 0.01649536\n"
     ]
    }
   ],
   "source": [
    "x <- c(123,117,119,128,125,121,124,119,116,126)\n",
    "\n",
    "# Hypothesized mean\n",
    "mu_0 <- 125\n",
    "\n",
    "# Sample statistics\n",
    "n <- length(x)        # Sample size\n",
    "x_bar <- mean(x)      # Sample mean\n",
    "s <- sd(x)            # Sample standard deviation\n",
    "\n",
    "# Compute t-statistic\n",
    "t_stat <- (x_bar - mu_0) / (s / sqrt(n))\n",
    "\n",
    "# Compute p-value (lower-tailed test)\n",
    "PartC <- pt(t_stat, df = n - 1)\n",
    "\n",
    "# Print the result\n",
    "print(PartC)"
   ]
  },
  {
   "cell_type": "code",
   "execution_count": null,
   "id": "87be11d4",
   "metadata": {
    "deletable": false,
    "editable": false,
    "nbgrader": {
     "cell_type": "code",
     "checksum": "71ec046ab67a66625bf65bc039952c1e",
     "grade": true,
     "grade_id": "cell-1057237dc2e67830",
     "locked": true,
     "points": 1,
     "schema_version": 3,
     "solution": false,
     "task": false
    }
   },
   "outputs": [],
   "source": []
  },
  {
   "cell_type": "markdown",
   "id": "634dfff7",
   "metadata": {
    "deletable": false,
    "editable": false,
    "nbgrader": {
     "cell_type": "markdown",
     "checksum": "62fcef4e96f7e6f389b62a6dc87b0519",
     "grade": false,
     "grade_id": "cell-c0f166c2da2e1413",
     "locked": true,
     "schema_version": 3,
     "solution": false,
     "task": false
    }
   },
   "source": [
    "#### Part D\n",
    "A packaging machine for peanut butter is supposed to place 100 grams of peanut butter into each jar.  Each hour, samples are removed and the peanut butter content determined (after subtracting the weight of the jar).\n",
    "\n",
    "This packaging process has been operating for years, and it is well known that the population variance is 0.5 (units of grams squared).\n",
    "\n",
    "We don't know it at the time, but a part has worn out on the machine, and now the mean packaging weight has slipped to 99.5 grams, which is not desired.  If we take samples of size n = 8 each hour, what is the probability that we will _fail_ to detect this shift in mean?  Use alpha = 0.05.\n",
    "\n",
    "Store your answer in the variable `PartD` and make sure that your result is a single scalar value (e.g., not a vector or array).\n",
    "\n",
    "HINTS: This problem is asking for beta, which is 1-power.  For information on storing the power as a single variable, see the \"Type II Error and Power of the Test\" section of the Week 4 Cheat Sheet."
   ]
  },
  {
   "cell_type": "code",
   "execution_count": 4,
   "id": "fbb5a147",
   "metadata": {
    "deletable": false,
    "nbgrader": {
     "cell_type": "code",
     "checksum": "e1b96acbd76050d37b71cc177c55cbb4",
     "grade": false,
     "grade_id": "cell-8957fc5487ce6376",
     "locked": false,
     "schema_version": 3,
     "solution": true,
     "task": false
    }
   },
   "outputs": [
    {
     "name": "stdout",
     "output_type": "stream",
     "text": [
      "[1] 0.63876\n"
     ]
    }
   ],
   "source": [
    "# Given values\n",
    "sigma2 <- 0.5   # Population variance\n",
    "sigma <- sqrt(sigma2)  # Standard deviation\n",
    "n <- 8         # Sample size\n",
    "mu_0 <- 100    # Null hypothesis mean\n",
    "mu_1 <- 99.5   # True mean after shift\n",
    "alpha <- 0.05  # Significance level\n",
    "\n",
    "# Find critical sample mean (lower-tailed test)\n",
    "z_alpha <- qnorm(alpha)  # z-score for alpha = 0.05 (lower-tailed)\n",
    "x_crit <- mu_0 + z_alpha * (sigma / sqrt(n))\n",
    "\n",
    "# Compute beta (Type II error)\n",
    "z_beta <- (x_crit - mu_1) / (sigma / sqrt(n))\n",
    "PartD <- pnorm(z_beta)  # P(Z < z_beta)\n",
    "\n",
    "# Print result\n",
    "print(PartD)\n"
   ]
  },
  {
   "cell_type": "code",
   "execution_count": null,
   "id": "44cb23e8",
   "metadata": {
    "deletable": false,
    "editable": false,
    "nbgrader": {
     "cell_type": "code",
     "checksum": "1ca3d040d8ada125c3aaf1f1f4177fd7",
     "grade": true,
     "grade_id": "cell-b6f0ead55bfccb8c",
     "locked": true,
     "points": 1,
     "schema_version": 3,
     "solution": false,
     "task": false
    }
   },
   "outputs": [],
   "source": []
  },
  {
   "cell_type": "markdown",
   "id": "3791a922",
   "metadata": {
    "deletable": false,
    "editable": false,
    "nbgrader": {
     "cell_type": "markdown",
     "checksum": "5bf8ea0e038334b8523112cbddeab4e2",
     "grade": false,
     "grade_id": "cell-46cbba858303b21f",
     "locked": true,
     "schema_version": 3,
     "solution": false,
     "task": false
    }
   },
   "source": [
    "#### Part E\n",
    "A packaging machine for peanut butter is supposed to place 100 grams of peanut butter into each jar.  This packaging process has been operating for years, and it is well known that the population variance is 0.5 (units of grams squared).\n",
    "\n",
    "Each hour, samples are removed and the peanut butter content determined (after subtracting the weight of the jar).  It is important for us to be able to detect a shift (decrease to 99.5 grams) in the process mean of 0.5 grams, and we wish to successfully identify this shift in mean 80% of the time (in other words, we want the power of the test to be at least 80%).\n",
    "\n",
    "What sample size must we use when taking samples?  Use alpha = 0.05.  Store your answer in the variable `PartE` and make sure that your result is a single scalar value (e.g., not a vector or array).\n",
    "\n",
    "HINT: Be sure to round your answer **up** to the nearest integer.  See the section on \"Choice of Sample Size\" of the Week 4 Cheat Sheet for information on how to save the sample size as a single variable."
   ]
  },
  {
   "cell_type": "code",
   "execution_count": 5,
   "id": "ad558991",
   "metadata": {
    "deletable": false,
    "nbgrader": {
     "cell_type": "code",
     "checksum": "17f73a7abcdf75a080656f3e72557e5e",
     "grade": false,
     "grade_id": "cell-7fbb1d014c099996",
     "locked": false,
     "schema_version": 3,
     "solution": true,
     "task": false
    }
   },
   "outputs": [
    {
     "name": "stdout",
     "output_type": "stream",
     "text": [
      "[1] 2\n"
     ]
    }
   ],
   "source": [
    "# Given values\n",
    "sigma2 <- 0.5   # Population variance\n",
    "sigma <- sqrt(sigma2)  # Standard deviation\n",
    "alpha <- 0.05   # Significance level\n",
    "power <- 0.80   # Desired power\n",
    "delta <- 0.5    # Shift in mean\n",
    "\n",
    "# Z-scores\n",
    "z_alpha <- qnorm(alpha)   # Critical value for lower-tailed test\n",
    "z_beta <- qnorm(power)    # Z-score corresponding to power = 0.80\n",
    "\n",
    "# Compute required sample size\n",
    "n_required <- ((z_alpha + z_beta) * sigma / delta) ^ 2\n",
    "\n",
    "# Round up to the nearest integer\n",
    "PartE <- ceiling(n_required)\n",
    "\n",
    "# Print result\n",
    "print(PartE)\n"
   ]
  },
  {
   "cell_type": "code",
   "execution_count": null,
   "id": "4a230a7e",
   "metadata": {
    "deletable": false,
    "editable": false,
    "nbgrader": {
     "cell_type": "code",
     "checksum": "bcf542f8170e92db57fe469c9cc44bde",
     "grade": true,
     "grade_id": "cell-d1987a6adcf7b601",
     "locked": true,
     "points": 1,
     "schema_version": 3,
     "solution": false,
     "task": false
    }
   },
   "outputs": [],
   "source": []
  },
  {
   "cell_type": "markdown",
   "id": "8b851201",
   "metadata": {
    "deletable": false,
    "editable": false,
    "nbgrader": {
     "cell_type": "markdown",
     "checksum": "a0408ea7d24579fa2d547164c5b5c1c4",
     "grade": false,
     "grade_id": "cell-9ccbbc85036cbcff",
     "locked": true,
     "schema_version": 3,
     "solution": false,
     "task": false
    }
   },
   "source": [
    "#### Part F\n",
    "For superior product quality, it is important that the variance of a certain polypropylene film does not exceed 0.5 mil^2.\n",
    "\n",
    "A quality control engineer feels that the variability of the polyproplyne film has increased in recent months (the film seems thinner in some regions and thicker in others, making it difficult to work with).  Therefore, the engineer sets up the following hypothesis test on the variance:\n",
    "\n",
    "$H_{0}: \\sigma^2 = 0.5$\\\n",
    "$H_{1}: \\sigma^2 \\gt 0.5$\n",
    "\n",
    "Over the next several days, the engineer obtains the following 12 samples for the thickness of the film (in mil):\n",
    "\n",
    "5.8, 4.4, 6.9, 5.6, 5.9, 4.1, 5.1, 4.3, 6.7, 6.1, 4.4,and 5.3\n",
    "\n",
    "Calculate a P-value for the hypothesis test above and store your answer in the variable `PartF`.  Make sure that your result is a single scalar value (e.g., not a vector or array).\n",
    "\n",
    "HINT: To store the P-value as a single variable, see the \"Hypothesis Tests on the Variance\" section of the Week 4 Cheat Sheet."
   ]
  },
  {
   "cell_type": "code",
   "execution_count": 6,
   "id": "78a69c66",
   "metadata": {
    "deletable": false,
    "nbgrader": {
     "cell_type": "code",
     "checksum": "bdc51e00dc3844a2400487eb56e1ad30",
     "grade": false,
     "grade_id": "cell-e5b0aa8038ffe32a",
     "locked": false,
     "schema_version": 3,
     "solution": true,
     "task": false
    }
   },
   "outputs": [
    {
     "name": "stdout",
     "output_type": "stream",
     "text": [
      "[1] 0.04884046\n"
     ]
    }
   ],
   "source": [
    "x <- c(5.8,4.4,6.9,5.6,5.9,4.1,5.1,4.3,6.7,6.1,4.4,5.3)\n",
    "\n",
    "# Hypothesized variance\n",
    "sigma0_sq <- 0.5\n",
    "\n",
    "# Sample statistics\n",
    "n <- length(x)          # Sample size\n",
    "s_sq <- var(x)          # Sample variance\n",
    "\n",
    "# Compute chi-square test statistic\n",
    "chi_sq_stat <- (n - 1) * s_sq / sigma0_sq\n",
    "\n",
    "# Compute p-value for right-tailed test\n",
    "PartF <- 1 - pchisq(chi_sq_stat, df = n - 1)\n",
    "\n",
    "# Print result\n",
    "print(PartF)"
   ]
  },
  {
   "cell_type": "code",
   "execution_count": null,
   "id": "a67e8c49",
   "metadata": {
    "deletable": false,
    "editable": false,
    "nbgrader": {
     "cell_type": "code",
     "checksum": "5d676d20956ff8c720261f2fd01ecbf8",
     "grade": true,
     "grade_id": "cell-c4ba9e57fadefecb",
     "locked": true,
     "points": 1,
     "schema_version": 3,
     "solution": false,
     "task": false
    }
   },
   "outputs": [],
   "source": []
  },
  {
   "cell_type": "markdown",
   "id": "345a5316",
   "metadata": {
    "deletable": false,
    "editable": false,
    "nbgrader": {
     "cell_type": "markdown",
     "checksum": "391dbf619d7570fb05a6beca94f1ff39",
     "grade": false,
     "grade_id": "cell-7e4ce5b99d69fbc0",
     "locked": true,
     "schema_version": 3,
     "solution": false,
     "task": false
    }
   },
   "source": [
    "#### Part G\n",
    "A wildlife biologist is conducting an experiment on the sex of individuals in a population of sea turtles.  In a balanced population, 50% of the individuals are female (and 50% are male).  The biologist suspects that the proportion of females is significantly above 50% in this particular population.  Thus, she sets up the following hypothesis test:\n",
    "\n",
    "$H_0: p=0.5$\\\n",
    "$H_1: p > 0.5$\n",
    "\n",
    "Out of 35 sea turtles that she observes the sex of, 21 of them are female.\n",
    "\n",
    "Use the exact binomial test to calculate a P-value for the hypothesis test above.  Store your answer in the variable `PartG` and make sure that your result is a single scalar value (e.g., not a vector or array).\n",
    "\n",
    "HINT: For information on how to store the P-value as a single value, see the \"Hypothesis Tests on a Binomial Proportion\" section of the Week 4 Cheat Sheet."
   ]
  },
  {
   "cell_type": "code",
   "execution_count": 7,
   "id": "d949698b",
   "metadata": {
    "deletable": false,
    "nbgrader": {
     "cell_type": "code",
     "checksum": "0c1fc135cb647197f01843c867a3cd6c",
     "grade": false,
     "grade_id": "cell-8b53182e0fc94c89",
     "locked": false,
     "schema_version": 3,
     "solution": true,
     "task": false
    }
   },
   "outputs": [
    {
     "name": "stdout",
     "output_type": "stream",
     "text": [
      "[1] 0.1552523\n"
     ]
    }
   ],
   "source": [
    "# Given data\n",
    "n <- 35   # Total number of turtles observed\n",
    "x <- 21   # Number of females observed\n",
    "p_null <- 0.5  # Null hypothesis proportion\n",
    "\n",
    "# Perform exact binomial test (right-tailed)\n",
    "result <- binom.test(x, n, p = p_null, alternative = \"greater\")\n",
    "\n",
    "# Extract p-value\n",
    "PartG <- result$p.value\n",
    "\n",
    "# Print result\n",
    "print(PartG)\n"
   ]
  },
  {
   "cell_type": "code",
   "execution_count": null,
   "id": "ae2e513b",
   "metadata": {
    "deletable": false,
    "editable": false,
    "nbgrader": {
     "cell_type": "code",
     "checksum": "dd8180445a8d9823d15e9c99a9de87d5",
     "grade": true,
     "grade_id": "cell-06481a88d6c98d0b",
     "locked": true,
     "points": 1,
     "schema_version": 3,
     "solution": false,
     "task": false
    }
   },
   "outputs": [],
   "source": []
  }
 ],
 "metadata": {
  "kernelspec": {
   "display_name": "R",
   "language": "R",
   "name": "ir"
  },
  "language_info": {
   "codemirror_mode": "r",
   "file_extension": ".r",
   "mimetype": "text/x-r-source",
   "name": "R",
   "pygments_lexer": "r",
   "version": "4.2.2"
  }
 },
 "nbformat": 4,
 "nbformat_minor": 5
}
