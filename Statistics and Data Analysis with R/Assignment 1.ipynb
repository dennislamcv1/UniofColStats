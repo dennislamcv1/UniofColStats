{
 "cells": [
  {
   "cell_type": "markdown",
   "id": "68205c65",
   "metadata": {
    "deletable": false,
    "editable": false,
    "nbgrader": {
     "cell_type": "markdown",
     "checksum": "8cc41a846a868f0a667a1634092379e4",
     "grade": false,
     "grade_id": "cell-d74d3a7240352185",
     "locked": true,
     "schema_version": 3,
     "solution": false,
     "task": false
    }
   },
   "source": [
    "#### GENERAL INSTRUCTIONS: Place your code in each cell to perform the required calculations.  Ctrl-Enter will execute all lines of code in that cell. Once you are satisfied with your answer (you may work through it as much as you'd like), click on the \"Submit Assignment\" button in the upper right corner and your assignment will be graded."
   ]
  },
  {
   "cell_type": "markdown",
   "id": "c8875eee",
   "metadata": {
    "deletable": false,
    "editable": false,
    "nbgrader": {
     "cell_type": "markdown",
     "checksum": "a8ff09d9461064e9e768faa1f9028c6e",
     "grade": false,
     "grade_id": "cell-2f7d0400f33a180b",
     "locked": true,
     "schema_version": 3,
     "solution": false,
     "task": false
    }
   },
   "source": [
    "#### For Parts A through D, you will use the following vectors, `x`, `y`, and `z`.  Using the code below, these vectors will be generated automatically for you in random order (such that every learner has a unique set of vectors).  When the grader runs your file, new random vectors will be chosen, so it's important that you write your answer in terms of `x`, `y`, and `z` and not simple numerical values."
   ]
  },
  {
   "cell_type": "code",
   "execution_count": 1,
   "id": "7c7cc8fa",
   "metadata": {
    "deletable": false,
    "editable": false,
    "nbgrader": {
     "cell_type": "code",
     "checksum": "37dae037a69eead142085edeeb27e6b3",
     "grade": false,
     "grade_id": "cell-fdd177a69fba8210",
     "locked": true,
     "schema_version": 3,
     "solution": false,
     "task": false
    }
   },
   "outputs": [
    {
     "name": "stdout",
     "output_type": "stream",
     "text": [
      "x = 3 7 6 4 \n",
      "y = 8 11 2 5 \n",
      "z = 9 12 1 10 \n"
     ]
    }
   ],
   "source": [
    "# DO NOT CHANGE ANYTHING IN THIS CELL!\n",
    "\n",
    "# Generate random vectors x, y, and z\n",
    "v <- sample.int(12)\n",
    "x <- v[1:4]\n",
    "y <- v[5:8]\n",
    "z <- v[9:12]\n",
    "cat(\"x =\",x,\"\\n\")\n",
    "cat(\"y =\",y,\"\\n\")\n",
    "cat(\"z =\",z,\"\\n\")\n",
    "\n",
    "# Be sure to run this block (Ctrl-Enter) before beginning parts A through D!  If you re-run this block, then the\n",
    "# values of x, y, and z will change, so be sure to re-run subsequent cells in that case."
   ]
  },
  {
   "cell_type": "markdown",
   "id": "c666c687",
   "metadata": {
    "deletable": false,
    "editable": false,
    "nbgrader": {
     "cell_type": "markdown",
     "checksum": "2c993736757ad806610d3c30612eb43d",
     "grade": false,
     "grade_id": "cell-cb4d3898030a972c",
     "locked": true,
     "schema_version": 3,
     "solution": false,
     "task": false
    }
   },
   "source": [
    "#### Part A\n",
    "How would you extract the 3rd element of vector `y` and store it in the variable `PartA`?"
   ]
  },
  {
   "cell_type": "code",
   "execution_count": 2,
   "id": "ac2bf999",
   "metadata": {
    "deletable": false,
    "nbgrader": {
     "cell_type": "code",
     "checksum": "c9345796aa1501a596d2d33f516b2a8e",
     "grade": false,
     "grade_id": "cell-3ae6ba3ee1256ff2",
     "locked": false,
     "schema_version": 3,
     "solution": true,
     "task": false
    }
   },
   "outputs": [
    {
     "name": "stdout",
     "output_type": "stream",
     "text": [
      "[1] 2\n"
     ]
    }
   ],
   "source": [
    "# your code here\n",
    "\n",
    "\n",
    "PartA <- y[3]\n",
    "print(PartA)"
   ]
  },
  {
   "cell_type": "code",
   "execution_count": null,
   "id": "d677ec89",
   "metadata": {
    "deletable": false,
    "editable": false,
    "nbgrader": {
     "cell_type": "code",
     "checksum": "fabbc44d429675b1586c293fc8a96f21",
     "grade": true,
     "grade_id": "cell-3e1b40cfbceadd54",
     "locked": true,
     "points": 1,
     "schema_version": 3,
     "solution": false,
     "task": false
    }
   },
   "outputs": [],
   "source": []
  },
  {
   "cell_type": "markdown",
   "id": "d1d8ebab",
   "metadata": {
    "deletable": false,
    "editable": false,
    "nbgrader": {
     "cell_type": "markdown",
     "checksum": "eb35ff1d8c4585228186920534e42c16",
     "grade": false,
     "grade_id": "cell-3a38d81ac1264b84",
     "locked": true,
     "schema_version": 3,
     "solution": false,
     "task": false
    }
   },
   "source": [
    "#### Part B\n",
    "How would you create a new vector that represents only the 1st and 3rd elements of vector `z`?  Store your answer in the variable `PartB`."
   ]
  },
  {
   "cell_type": "code",
   "execution_count": 3,
   "id": "44df1fd5",
   "metadata": {
    "deletable": false,
    "nbgrader": {
     "cell_type": "code",
     "checksum": "7901c65cca720cb81112b6de3b2c7e4b",
     "grade": false,
     "grade_id": "cell-a33025d51f255c9d",
     "locked": false,
     "schema_version": 3,
     "solution": true,
     "task": false
    }
   },
   "outputs": [
    {
     "name": "stdout",
     "output_type": "stream",
     "text": [
      "[1] 9 1\n"
     ]
    }
   ],
   "source": [
    "# your code here\n",
    "\n",
    "\n",
    "PartB <- z[c(1, 3)]\n",
    "print(PartB)"
   ]
  },
  {
   "cell_type": "code",
   "execution_count": null,
   "id": "fabe4dfa",
   "metadata": {
    "deletable": false,
    "editable": false,
    "nbgrader": {
     "cell_type": "code",
     "checksum": "d455a555204440f05296bec7e2c7392d",
     "grade": true,
     "grade_id": "cell-be7357a4d5cd7859",
     "locked": true,
     "points": 1,
     "schema_version": 3,
     "solution": false,
     "task": false
    }
   },
   "outputs": [],
   "source": []
  },
  {
   "cell_type": "markdown",
   "id": "ff7b0649",
   "metadata": {
    "deletable": false,
    "editable": false,
    "nbgrader": {
     "cell_type": "markdown",
     "checksum": "fad4aaad009c01971e1ed483ab5439d9",
     "grade": false,
     "grade_id": "cell-dafeba9e50ab26fe",
     "locked": true,
     "schema_version": 3,
     "solution": false,
     "task": false
    }
   },
   "source": [
    "#### Part C \n",
    "Given the vectors `x`, `y`, and `z`, how would you write code in R to create the following matrix, `C`?  Store your answer in the variable `PartC` and make sure that your answer is in terms of the vectors `x`, `y`, and `z`.\n",
    "\n",
    "$$x=[x_1,x_2,x_3,x_4]$$\n",
    "$$y=[y_1,y_2,y_3,y_4]$$\n",
    "$$z=[z_1,z_2,z_3,z_4]$$\n",
    "\n",
    "$$C=\\begin{bmatrix} x_1 & x_4 & y_3 & z_2 \\\\ x_2 & y_1 & y_4 & z_3 \\\\ x_3 & y_2 & z_1 & z_4 \\end{bmatrix}$$"
   ]
  },
  {
   "cell_type": "code",
   "execution_count": 4,
   "id": "34eba5a1",
   "metadata": {
    "deletable": false,
    "nbgrader": {
     "cell_type": "code",
     "checksum": "512da127f986746f07494a6901ef83ea",
     "grade": false,
     "grade_id": "cell-cb33a59e31c4067d",
     "locked": false,
     "schema_version": 3,
     "solution": true,
     "task": false
    }
   },
   "outputs": [
    {
     "name": "stdout",
     "output_type": "stream",
     "text": [
      "     [,1] [,2] [,3] [,4]\n",
      "[1,]    3    4    2   12\n",
      "[2,]    7    8    5    1\n",
      "[3,]    6   11    9   10\n"
     ]
    }
   ],
   "source": [
    "# your code here\n",
    "\n",
    "\n",
    "PartC <- matrix(c(x[1], x[4], y[3], z[2], \n",
    "                  x[2], y[1], y[4], z[3], \n",
    "                  x[3], y[2], z[1], z[4]), \n",
    "                nrow = 3, byrow = TRUE)\n",
    "print(PartC)"
   ]
  },
  {
   "cell_type": "code",
   "execution_count": null,
   "id": "2fa36766",
   "metadata": {
    "deletable": false,
    "editable": false,
    "nbgrader": {
     "cell_type": "code",
     "checksum": "1bc9c0a46a5b2bc7ddce30f4953faa77",
     "grade": true,
     "grade_id": "cell-2f0d02573fac2630",
     "locked": true,
     "points": 2,
     "schema_version": 3,
     "solution": false,
     "task": false
    }
   },
   "outputs": [],
   "source": []
  },
  {
   "cell_type": "markdown",
   "id": "629f95ad",
   "metadata": {
    "deletable": false,
    "editable": false,
    "nbgrader": {
     "cell_type": "markdown",
     "checksum": "3a19c0a2ee948953bf7fe8601729bda8",
     "grade": false,
     "grade_id": "cell-6a184b5cb6f96554",
     "locked": true,
     "schema_version": 3,
     "solution": false,
     "task": false
    }
   },
   "source": [
    "#### Part D\n",
    "Given the vectors `x`, `y`, and `z` below, how would you write code in R to create the following matrix, `D`?  Store your answer in the variable `PartD` and make sure that your answer is in terms of the vectors `x`, `y`, and `z`.\n",
    "\n",
    "$$x=[x_1,x_2,x_3,x_4]$$\n",
    "$$y=[y_1,y_2,y_3,y_4]$$\n",
    "$$z=[z_1,z_2,z_3,z_4]$$\n",
    "\n",
    "$$D=\\begin{bmatrix} x_1 & x_2 & x_3 & x_4 \\\\ y_1 & y_2 & y_3 & y_4 \\\\ z_1 & z_2 & z_3 & z_4 \\end{bmatrix}$$"
   ]
  },
  {
   "cell_type": "code",
   "execution_count": 5,
   "id": "eede30e4",
   "metadata": {
    "deletable": false,
    "nbgrader": {
     "cell_type": "code",
     "checksum": "7aa56dc1fb8b5642db0be3fff28cb1ec",
     "grade": false,
     "grade_id": "cell-1305a7233b56599c",
     "locked": false,
     "schema_version": 3,
     "solution": true,
     "task": false
    }
   },
   "outputs": [
    {
     "name": "stdout",
     "output_type": "stream",
     "text": [
      "     [,1] [,2] [,3] [,4]\n",
      "[1,]    3    7    6    4\n",
      "[2,]    8   11    2    5\n",
      "[3,]    9   12    1   10\n"
     ]
    }
   ],
   "source": [
    "# your code here\n",
    "\n",
    "\n",
    "PartD <- matrix(c(x, y, z), nrow = 3, byrow = TRUE)\n",
    "print(PartD)"
   ]
  },
  {
   "cell_type": "code",
   "execution_count": null,
   "id": "57fe54af",
   "metadata": {
    "deletable": false,
    "editable": false,
    "nbgrader": {
     "cell_type": "code",
     "checksum": "917cea6bf56bb7e1dd56bd169275db28",
     "grade": true,
     "grade_id": "cell-2de651104a9c860a",
     "locked": true,
     "points": 2,
     "schema_version": 3,
     "solution": false,
     "task": false
    }
   },
   "outputs": [],
   "source": []
  },
  {
   "cell_type": "markdown",
   "id": "a531b2a6",
   "metadata": {
    "deletable": false,
    "editable": false,
    "nbgrader": {
     "cell_type": "markdown",
     "checksum": "bff8924fa8d0061303aebabcec92df0f",
     "grade": false,
     "grade_id": "cell-83112c3e8dd37222",
     "locked": true,
     "schema_version": 3,
     "solution": false,
     "task": false
    }
   },
   "source": [
    "#### For Parts E and F, you will use the following matrix, `E`.  Using the code below, this matrix will be generated automatically for you in a random configuration (such that every learner has a unique matrix).   When the grader runs your file, a new random matrix will be chosen, so it's important that you write your answer in terms of matrix `E` and not simple numerical values."
   ]
  },
  {
   "cell_type": "code",
   "execution_count": 6,
   "id": "e05a83db",
   "metadata": {
    "deletable": false,
    "editable": false,
    "nbgrader": {
     "cell_type": "code",
     "checksum": "59caf742f575fa148bc9028512df6de8",
     "grade": false,
     "grade_id": "cell-e1ea8690aab33c3b",
     "locked": true,
     "schema_version": 3,
     "solution": false,
     "task": false
    }
   },
   "outputs": [
    {
     "name": "stdout",
     "output_type": "stream",
     "text": [
      "     [,1] [,2] [,3] [,4]\n",
      "[1,]    6   15   14   12\n",
      "[2,]    2    1    8    4\n",
      "[3,]   16    5    9   10\n",
      "[4,]   13    3   11    7\n"
     ]
    }
   ],
   "source": [
    "# DO NOT CHANGE ANYTHING IN THIS CELL!\n",
    "\n",
    "# Generate random matrix E\n",
    "E <- matrix(sample.int(16),nrow=4,ncol=4)\n",
    "print(E)\n",
    "\n",
    "# Be sure to run this block (Ctrl-Enter) before beginning parts E and F!  If you re-run this block, then the\n",
    "# values in matrix E will change, so be sure to re-run subsequent cells in that case."
   ]
  },
  {
   "cell_type": "markdown",
   "id": "3efc1d93",
   "metadata": {
    "deletable": false,
    "editable": false,
    "nbgrader": {
     "cell_type": "markdown",
     "checksum": "6c066a457907cee99c5b3b1080d5b932",
     "grade": false,
     "grade_id": "cell-a2c40704e41f52b2",
     "locked": true,
     "schema_version": 3,
     "solution": false,
     "task": false
    }
   },
   "source": [
    "#### Part E\n",
    "How would you extract only the 3rd column of matrix `E`?  Store your resulting vector in the variable `PartE`."
   ]
  },
  {
   "cell_type": "code",
   "execution_count": 7,
   "id": "7cbaec96",
   "metadata": {
    "deletable": false,
    "nbgrader": {
     "cell_type": "code",
     "checksum": "76773de749a3ba6a5444dc94ee5cb01a",
     "grade": false,
     "grade_id": "cell-264e5653952601cb",
     "locked": false,
     "schema_version": 3,
     "solution": true,
     "task": false
    }
   },
   "outputs": [
    {
     "name": "stdout",
     "output_type": "stream",
     "text": [
      "[1] 14  8  9 11\n"
     ]
    }
   ],
   "source": [
    "# your code here\n",
    "\n",
    "\n",
    "PartE <- E[, 3]\n",
    "print(PartE)"
   ]
  },
  {
   "cell_type": "code",
   "execution_count": null,
   "id": "bdc64b10",
   "metadata": {
    "deletable": false,
    "editable": false,
    "nbgrader": {
     "cell_type": "code",
     "checksum": "ea48e9b041b2485d02bc8a2056daa715",
     "grade": true,
     "grade_id": "cell-e77a46d1150e56c6",
     "locked": true,
     "points": 2,
     "schema_version": 3,
     "solution": false,
     "task": false
    }
   },
   "outputs": [],
   "source": []
  },
  {
   "cell_type": "markdown",
   "id": "4ee0b68d",
   "metadata": {
    "deletable": false,
    "editable": false,
    "nbgrader": {
     "cell_type": "markdown",
     "checksum": "bb4a3e901f799e2556f14512653c2f8b",
     "grade": false,
     "grade_id": "cell-a44f19ffe9ee8a6a",
     "locked": true,
     "schema_version": 3,
     "solution": false,
     "task": false
    }
   },
   "source": [
    "#### Part F\n",
    "How would you extract the elements of the 2nd, 3rd, and 4th rows but only columns 1 and 3 of matrix `E`?  Store your resulting matrix in the variable `PartF`."
   ]
  },
  {
   "cell_type": "code",
   "execution_count": 8,
   "id": "e1e7cf17",
   "metadata": {
    "deletable": false,
    "nbgrader": {
     "cell_type": "code",
     "checksum": "ff76a8784ed109c7367d7a510765b6a3",
     "grade": false,
     "grade_id": "cell-901b168ccb08978f",
     "locked": false,
     "schema_version": 3,
     "solution": true,
     "task": false
    }
   },
   "outputs": [
    {
     "name": "stdout",
     "output_type": "stream",
     "text": [
      "     [,1] [,2]\n",
      "[1,]    2    8\n",
      "[2,]   16    9\n",
      "[3,]   13   11\n"
     ]
    }
   ],
   "source": [
    "# your code here\n",
    "\n",
    "\n",
    "PartF <- E[c(2, 3, 4), c(1, 3)]\n",
    "print(PartF)"
   ]
  },
  {
   "cell_type": "code",
   "execution_count": null,
   "id": "1cd7401e",
   "metadata": {
    "deletable": false,
    "editable": false,
    "nbgrader": {
     "cell_type": "code",
     "checksum": "15c925d77c40e23b4d56414633d5bdd0",
     "grade": true,
     "grade_id": "cell-f665fb57b53fff1f",
     "locked": true,
     "points": 2,
     "schema_version": 3,
     "solution": false,
     "task": false
    }
   },
   "outputs": [],
   "source": []
  },
  {
   "cell_type": "markdown",
   "id": "2ff9262f",
   "metadata": {
    "deletable": false,
    "editable": false,
    "nbgrader": {
     "cell_type": "markdown",
     "checksum": "18edc95e272f3876842f2b2070769b97",
     "grade": false,
     "grade_id": "cell-619f275dd2a415f1",
     "locked": true,
     "schema_version": 3,
     "solution": false,
     "task": false
    }
   },
   "source": [
    "#### Part G\n",
    "Data for the mass of burritos from four different restaurants are available in the file \"Burritos.xlsx\" (same directory as this file, so the file path to import is simply the file name).  You might want to copy/paste that file name in your solution so you don't misspell it.\n",
    "\n",
    "First, import the data using the **read_excel** function (be sure to load the proper library!).  Next, extract only the 5 values from the **Qdoba1** column and store the data in a new vector (NOT a tibble!) named `PartG`."
   ]
  },
  {
   "cell_type": "code",
   "execution_count": 9,
   "id": "999154d3",
   "metadata": {
    "deletable": false,
    "nbgrader": {
     "cell_type": "code",
     "checksum": "92ed3afbe37ff4a2ff3fecbc2add6c6e",
     "grade": false,
     "grade_id": "cell-5a523737c9453e5c",
     "locked": false,
     "schema_version": 3,
     "solution": true,
     "task": false
    }
   },
   "outputs": [
    {
     "name": "stdout",
     "output_type": "stream",
     "text": [
      "[1] 693.0 669.8 693.1 715.7 691.8\n"
     ]
    }
   ],
   "source": [
    "# your code here\n",
    "\n",
    "\n",
    "# Load the necessary library\n",
    "library(readxl)\n",
    "\n",
    "# Read the data from Burritos.xlsx\n",
    "burrito_data <- read_excel(\"Burritos.xlsx\")\n",
    "\n",
    "# Extract only the 5 values from the \"Qdoba1\" column and convert to a vector\n",
    "PartG <- as.vector(burrito_data$Qdoba1[1:5])\n",
    "\n",
    "print(PartG)"
   ]
  },
  {
   "cell_type": "code",
   "execution_count": null,
   "id": "303e56d4",
   "metadata": {
    "deletable": false,
    "editable": false,
    "nbgrader": {
     "cell_type": "code",
     "checksum": "ea4549980ea5780b5cadb0ea30f4aa77",
     "grade": true,
     "grade_id": "cell-41ea3cc3344be6f4",
     "locked": true,
     "points": 2,
     "schema_version": 3,
     "solution": false,
     "task": false
    }
   },
   "outputs": [],
   "source": []
  }
 ],
 "metadata": {
  "kernelspec": {
   "display_name": "R",
   "language": "R",
   "name": "ir"
  },
  "language_info": {
   "codemirror_mode": "r",
   "file_extension": ".r",
   "mimetype": "text/x-r-source",
   "name": "R",
   "pygments_lexer": "r",
   "version": "4.2.2"
  }
 },
 "nbformat": 4,
 "nbformat_minor": 5
}
