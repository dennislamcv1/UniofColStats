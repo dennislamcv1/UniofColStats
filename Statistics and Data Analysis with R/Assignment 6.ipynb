{
 "cells": [
  {
   "cell_type": "markdown",
   "id": "0799d671",
   "metadata": {
    "deletable": false,
    "editable": false,
    "nbgrader": {
     "cell_type": "markdown",
     "checksum": "f8fc554172b7ace4cba02686c77046f1",
     "grade": false,
     "grade_id": "cell-aec80ae12e62bd84",
     "locked": true,
     "schema_version": 3,
     "solution": false,
     "task": false
    }
   },
   "source": [
    "#### GENERAL INSTRUCTIONS: Place your code in each cell to perform the required calculations.  Ctrl-Enter will execute all lines of code in that cell. Once you are satisfied with your answer (you may work through it as much as you'd like), click on the \"Submit Assignment\" button in the upper right corner and your assignment will be graded."
   ]
  },
  {
   "cell_type": "markdown",
   "id": "f472dbe8",
   "metadata": {
    "deletable": false,
    "editable": false,
    "nbgrader": {
     "cell_type": "markdown",
     "checksum": "f3df8f808a3a7d0c52a3fcd3a6cf070d",
     "grade": false,
     "grade_id": "cell-28eac4e884b7e03d",
     "locked": true,
     "schema_version": 3,
     "solution": false,
     "task": false
    }
   },
   "source": [
    "#### Part A\n",
    "A set of x-y data is found in a file called \"Polynomial Data.xlsx\" in the same folder as this file.  Therefore, in order to import the data in this file, you can simply use 'read_excel(\"Polynomial Data.xlsx\")' (the readxl library needs to be loaded first, as always).\n",
    "\n",
    "Create a 4th order polynomial model relating x to y:\n",
    "\n",
    "$$y = \\beta_0+\\beta_1x+\\beta_2x^2+\\beta_3x^3+\\beta_4x^4$$\n",
    "\n",
    "What is $\\beta_3$?  Store the value for $\\beta_3$ in the variable `PartA` and make sure that your result is a single scalar value (e.g., not a vector or array).\n",
    "\n",
    "HINT: For a reminder of how to extract model parameters as individual variables, see the screencast \"Polynomial Regression\" (starting at around 5:45)."
   ]
  },
  {
   "cell_type": "code",
   "execution_count": 1,
   "id": "ef2b210a",
   "metadata": {
    "deletable": false,
    "nbgrader": {
     "cell_type": "code",
     "checksum": "8555860eddd27bc8766c03a02f117490",
     "grade": false,
     "grade_id": "cell-69c01acca5279f0d",
     "locked": false,
     "schema_version": 3,
     "solution": true,
     "task": false
    }
   },
   "outputs": [
    {
     "data": {
      "text/html": [
       "<table class=\"dataframe\">\n",
       "<caption>A matrix: 5 × 4 of type dbl</caption>\n",
       "<thead>\n",
       "\t<tr><th></th><th scope=col>Estimate</th><th scope=col>Std. Error</th><th scope=col>t value</th><th scope=col>Pr(&gt;|t|)</th></tr>\n",
       "</thead>\n",
       "<tbody>\n",
       "\t<tr><th scope=row>(Intercept)</th><td>-5.862246e-14</td><td>7.06371271</td><td>-8.299100e-15</td><td>1.000000000</td></tr>\n",
       "\t<tr><th scope=row>poly(x, 4, raw = TRUE)1</th><td> 4.170008e+01</td><td>7.96159531</td><td> 5.237654e+00</td><td>0.003360364</td></tr>\n",
       "\t<tr><th scope=row>poly(x, 4, raw = TRUE)2</th><td>-8.275641e+00</td><td>2.75741611</td><td>-3.001230e+00</td><td>0.030056728</td></tr>\n",
       "\t<tr><th scope=row>poly(x, 4, raw = TRUE)3</th><td> 8.500389e-01</td><td>0.36846492</td><td> 2.306974e+00</td><td>0.069167884</td></tr>\n",
       "\t<tr><th scope=row>poly(x, 4, raw = TRUE)4</th><td>-2.272727e-02</td><td>0.01665688</td><td>-1.364437e+00</td><td>0.230631135</td></tr>\n",
       "</tbody>\n",
       "</table>\n"
      ],
      "text/latex": [
       "A matrix: 5 × 4 of type dbl\n",
       "\\begin{tabular}{r|llll}\n",
       "  & Estimate & Std. Error & t value & Pr(>\\textbar{}t\\textbar{})\\\\\n",
       "\\hline\n",
       "\t(Intercept) & -5.862246e-14 & 7.06371271 & -8.299100e-15 & 1.000000000\\\\\n",
       "\tpoly(x, 4, raw = TRUE)1 &  4.170008e+01 & 7.96159531 &  5.237654e+00 & 0.003360364\\\\\n",
       "\tpoly(x, 4, raw = TRUE)2 & -8.275641e+00 & 2.75741611 & -3.001230e+00 & 0.030056728\\\\\n",
       "\tpoly(x, 4, raw = TRUE)3 &  8.500389e-01 & 0.36846492 &  2.306974e+00 & 0.069167884\\\\\n",
       "\tpoly(x, 4, raw = TRUE)4 & -2.272727e-02 & 0.01665688 & -1.364437e+00 & 0.230631135\\\\\n",
       "\\end{tabular}\n"
      ],
      "text/markdown": [
       "\n",
       "A matrix: 5 × 4 of type dbl\n",
       "\n",
       "| <!--/--> | Estimate | Std. Error | t value | Pr(&gt;|t|) |\n",
       "|---|---|---|---|---|\n",
       "| (Intercept) | -5.862246e-14 | 7.06371271 | -8.299100e-15 | 1.000000000 |\n",
       "| poly(x, 4, raw = TRUE)1 |  4.170008e+01 | 7.96159531 |  5.237654e+00 | 0.003360364 |\n",
       "| poly(x, 4, raw = TRUE)2 | -8.275641e+00 | 2.75741611 | -3.001230e+00 | 0.030056728 |\n",
       "| poly(x, 4, raw = TRUE)3 |  8.500389e-01 | 0.36846492 |  2.306974e+00 | 0.069167884 |\n",
       "| poly(x, 4, raw = TRUE)4 | -2.272727e-02 | 0.01665688 | -1.364437e+00 | 0.230631135 |\n",
       "\n"
      ],
      "text/plain": [
       "                        Estimate      Std. Error t value       Pr(>|t|)   \n",
       "(Intercept)             -5.862246e-14 7.06371271 -8.299100e-15 1.000000000\n",
       "poly(x, 4, raw = TRUE)1  4.170008e+01 7.96159531  5.237654e+00 0.003360364\n",
       "poly(x, 4, raw = TRUE)2 -8.275641e+00 2.75741611 -3.001230e+00 0.030056728\n",
       "poly(x, 4, raw = TRUE)3  8.500389e-01 0.36846492  2.306974e+00 0.069167884\n",
       "poly(x, 4, raw = TRUE)4 -2.272727e-02 0.01665688 -1.364437e+00 0.230631135"
      ]
     },
     "metadata": {},
     "output_type": "display_data"
    },
    {
     "name": "stdout",
     "output_type": "stream",
     "text": [
      "[1] 0.8500389\n"
     ]
    }
   ],
   "source": [
    "# Load necessary library\n",
    "library(readxl)\n",
    "\n",
    "# Read the data\n",
    "df <- read_excel(\"Polynomial Data.xlsx\")\n",
    "\n",
    "# Assume the data has columns named 'x' and 'y'\n",
    "x <- df$x\n",
    "y <- df$y\n",
    "\n",
    "# Fit a 4th order polynomial model\n",
    "model <- lm(y ~ poly(x, 4, raw = TRUE), data = df)\n",
    "\n",
    "summary(model)$coefficients\n",
    "\n",
    "# Extract beta_3\n",
    "PartA <- summary(model)$coefficients['poly(x, 4, raw = TRUE)3', 'Estimate']\n",
    "\n",
    "# Print the result\n",
    "print(PartA)\n"
   ]
  },
  {
   "cell_type": "code",
   "execution_count": null,
   "id": "91214244",
   "metadata": {
    "deletable": false,
    "editable": false,
    "nbgrader": {
     "cell_type": "code",
     "checksum": "13e476430e3b2ebf00cac3c80034afd7",
     "grade": true,
     "grade_id": "cell-8c3d743853550d44",
     "locked": true,
     "points": 1,
     "schema_version": 3,
     "solution": false,
     "task": false
    }
   },
   "outputs": [],
   "source": []
  },
  {
   "cell_type": "markdown",
   "id": "44968a2c",
   "metadata": {
    "deletable": false,
    "editable": false,
    "nbgrader": {
     "cell_type": "markdown",
     "checksum": "d02867f31abe2ab74a0a79bacfc37a26",
     "grade": false,
     "grade_id": "cell-ecc0d965249b6871",
     "locked": true,
     "schema_version": 3,
     "solution": false,
     "task": false
    }
   },
   "source": [
    "#### Part B\n",
    "For the fourth order model that you created in Part A, store the vector of fitted values into variable `PartB`.  Note that your initial output may have column names 1 through 10.  You can remove these by simply using the **unname()** function (place you initial result inside this function to remove those column names).\n",
    "\n",
    "HINT: For a reminder of how to output fitted values from a regression model, see the screencast \"Polynomial Regression\" (starting at around 7:50)."
   ]
  },
  {
   "cell_type": "code",
   "execution_count": 2,
   "id": "9716a0bb",
   "metadata": {
    "deletable": false,
    "nbgrader": {
     "cell_type": "code",
     "checksum": "52151fbef0b71fa3ad85b714f40393db",
     "grade": false,
     "grade_id": "cell-db35a26e0ad20076",
     "locked": false,
     "schema_version": 3,
     "solution": true,
     "task": false
    }
   },
   "outputs": [
    {
     "name": "stdout",
     "output_type": "stream",
     "text": [
      " [1]  34.25175  56.73427  71.72960  82.97436  93.65967 106.43124 123.38928\n",
      " [8] 146.08858 175.53846 212.20280\n"
     ]
    }
   ],
   "source": [
    "# Get fitted values from the model\n",
    "PartB <- unname(fitted(model))\n",
    "\n",
    "# Print the result\n",
    "print(PartB)\n"
   ]
  },
  {
   "cell_type": "code",
   "execution_count": null,
   "id": "2e278aa1",
   "metadata": {
    "deletable": false,
    "editable": false,
    "nbgrader": {
     "cell_type": "code",
     "checksum": "8371ca7fd84ef2f3313e7c82b25094ae",
     "grade": true,
     "grade_id": "cell-80f27daebf5cb027",
     "locked": true,
     "points": 1,
     "schema_version": 3,
     "solution": false,
     "task": false
    }
   },
   "outputs": [],
   "source": []
  },
  {
   "cell_type": "markdown",
   "id": "a56506f5",
   "metadata": {
    "deletable": false,
    "editable": false,
    "nbgrader": {
     "cell_type": "markdown",
     "checksum": "fbc5f4e1fe3c1f74f6c6f3e99d9d1318",
     "grade": false,
     "grade_id": "cell-862fcd9556a601af",
     "locked": true,
     "schema_version": 3,
     "solution": false,
     "task": false
    }
   },
   "source": [
    "#### Part C\n",
    "For the fourth order model that you created in Part A, predict the response (y) when x=5.3.  Store your answer in the variable `PartC`.  Note that your initial output may have a column name of 1 above your response value.  You can remove this by simply using the **unname()** function (place you initial result inside this function to remove the column name)."
   ]
  },
  {
   "cell_type": "code",
   "execution_count": 3,
   "id": "cb050d2f",
   "metadata": {
    "deletable": false,
    "nbgrader": {
     "cell_type": "code",
     "checksum": "3e1685b0dfcf0771020d852a86a96ed7",
     "grade": false,
     "grade_id": "cell-f08bf6b88262d33c",
     "locked": false,
     "schema_version": 3,
     "solution": true,
     "task": false
    }
   },
   "outputs": [
    {
     "name": "stdout",
     "output_type": "stream",
     "text": [
      "[1] 97.16598\n"
     ]
    }
   ],
   "source": [
    "# Predict y when x = 5.3\n",
    "PartC <- unname(predict(model, newdata = data.frame(x = 5.3)))\n",
    "\n",
    "# Print the result\n",
    "print(PartC)\n"
   ]
  },
  {
   "cell_type": "code",
   "execution_count": null,
   "id": "4a8a9031",
   "metadata": {
    "deletable": false,
    "editable": false,
    "nbgrader": {
     "cell_type": "code",
     "checksum": "10099bc61e6b3b8896ae60182bc25525",
     "grade": true,
     "grade_id": "cell-30c287c9a7f402fe",
     "locked": true,
     "points": 1,
     "schema_version": 3,
     "solution": false,
     "task": false
    }
   },
   "outputs": [],
   "source": []
  },
  {
   "cell_type": "markdown",
   "id": "e2275903",
   "metadata": {
    "deletable": false,
    "editable": false,
    "nbgrader": {
     "cell_type": "markdown",
     "checksum": "023c2fb1a427c5883e8bd6dadb564b26",
     "grade": false,
     "grade_id": "cell-eeb0b2c45de22220",
     "locked": true,
     "schema_version": 3,
     "solution": false,
     "task": false
    }
   },
   "source": [
    "#### Part D\n",
    "The data found in a file called \"Profit Data.xlsx\" represents profit (**Profit**, in thousands of dollars) of a particular project undertaken by a company as a function of the number of full-time employees devoted to the project (**Employees**), monthly radio advertising costs (**Radio**, in thousands of dollars), and monthly social media advertising costs (**SocialMedia**, in thousands of dollars).  The \"Profit Data.xlsx\" file is in the same folder as this file.  Therefore, in order to import the data in this file, you can simply use 'read_excel(\"Profit Data.xlsx\")' (the readxl library needs to be loaded first, as always).\n",
    "\n",
    "Create the following multilinear regression model relating inputs **Employees**, **Radio**, and **SocialMedia** to the output, **Profit**:\n",
    "\n",
    "$$Profit = \\beta_0+\\beta_1 \\cdot Employees+\\beta_2 \\cdot Radio+\\beta_3 \\cdot SocialMedia+\\beta_4 \\cdot Employees \\cdot Radio+\\beta_5 \\cdot Employees \\cdot SocialMedia+\\beta_6 \\cdot Radio \\cdot SocialMedia$$\n",
    "\n",
    "In other words, create a full model with first order terms and all binary interaction terms.\n",
    "\n",
    "What is $\\beta_2$?  Store the value for $\\beta_2$ in the variable `PartD` and make sure that your result is a single scalar value (e.g., not a vector or array).\n",
    "\n",
    "HINT: For a reminder of how to extract model parameters as individual variables, see the screencast \"Polynomial Regression\" (starting at around 5:45)."
   ]
  },
  {
   "cell_type": "code",
   "execution_count": 4,
   "id": "dc778a8f",
   "metadata": {
    "deletable": false,
    "nbgrader": {
     "cell_type": "code",
     "checksum": "a8e140911979f7a9cead5ba7af4117d2",
     "grade": false,
     "grade_id": "cell-28c256e911c95f68",
     "locked": false,
     "schema_version": 3,
     "solution": true,
     "task": false
    }
   },
   "outputs": [
    {
     "data": {
      "text/html": [
       "<table class=\"dataframe\">\n",
       "<caption>A matrix: 7 × 4 of type dbl</caption>\n",
       "<thead>\n",
       "\t<tr><th></th><th scope=col>Estimate</th><th scope=col>Std. Error</th><th scope=col>t value</th><th scope=col>Pr(&gt;|t|)</th></tr>\n",
       "</thead>\n",
       "<tbody>\n",
       "\t<tr><th scope=row>(Intercept)</th><td> 14.5480635</td><td>16.0176964</td><td> 0.9082494</td><td>0.3802758022</td></tr>\n",
       "\t<tr><th scope=row>Employees</th><td>-12.2525523</td><td> 5.5390442</td><td>-2.2120337</td><td>0.0454805116</td></tr>\n",
       "\t<tr><th scope=row>Radio</th><td>  5.5306553</td><td> 1.0144116</td><td> 5.4520820</td><td>0.0001108264</td></tr>\n",
       "\t<tr><th scope=row>SocialMedia</th><td>  6.6464709</td><td> 2.6597356</td><td> 2.4989216</td><td>0.0266429057</td></tr>\n",
       "\t<tr><th scope=row>Employees:Radio</th><td> -0.1014455</td><td> 0.2462113</td><td>-0.4120263</td><td>0.6870332500</td></tr>\n",
       "\t<tr><th scope=row>Employees:SocialMedia</th><td>  0.4149923</td><td> 0.6004514</td><td> 0.6911338</td><td>0.5016372390</td></tr>\n",
       "\t<tr><th scope=row>Radio:SocialMedia</th><td>  0.3663672</td><td> 0.1721252</td><td> 2.1284931</td><td>0.0529947435</td></tr>\n",
       "</tbody>\n",
       "</table>\n"
      ],
      "text/latex": [
       "A matrix: 7 × 4 of type dbl\n",
       "\\begin{tabular}{r|llll}\n",
       "  & Estimate & Std. Error & t value & Pr(>\\textbar{}t\\textbar{})\\\\\n",
       "\\hline\n",
       "\t(Intercept) &  14.5480635 & 16.0176964 &  0.9082494 & 0.3802758022\\\\\n",
       "\tEmployees & -12.2525523 &  5.5390442 & -2.2120337 & 0.0454805116\\\\\n",
       "\tRadio &   5.5306553 &  1.0144116 &  5.4520820 & 0.0001108264\\\\\n",
       "\tSocialMedia &   6.6464709 &  2.6597356 &  2.4989216 & 0.0266429057\\\\\n",
       "\tEmployees:Radio &  -0.1014455 &  0.2462113 & -0.4120263 & 0.6870332500\\\\\n",
       "\tEmployees:SocialMedia &   0.4149923 &  0.6004514 &  0.6911338 & 0.5016372390\\\\\n",
       "\tRadio:SocialMedia &   0.3663672 &  0.1721252 &  2.1284931 & 0.0529947435\\\\\n",
       "\\end{tabular}\n"
      ],
      "text/markdown": [
       "\n",
       "A matrix: 7 × 4 of type dbl\n",
       "\n",
       "| <!--/--> | Estimate | Std. Error | t value | Pr(&gt;|t|) |\n",
       "|---|---|---|---|---|\n",
       "| (Intercept) |  14.5480635 | 16.0176964 |  0.9082494 | 0.3802758022 |\n",
       "| Employees | -12.2525523 |  5.5390442 | -2.2120337 | 0.0454805116 |\n",
       "| Radio |   5.5306553 |  1.0144116 |  5.4520820 | 0.0001108264 |\n",
       "| SocialMedia |   6.6464709 |  2.6597356 |  2.4989216 | 0.0266429057 |\n",
       "| Employees:Radio |  -0.1014455 |  0.2462113 | -0.4120263 | 0.6870332500 |\n",
       "| Employees:SocialMedia |   0.4149923 |  0.6004514 |  0.6911338 | 0.5016372390 |\n",
       "| Radio:SocialMedia |   0.3663672 |  0.1721252 |  2.1284931 | 0.0529947435 |\n",
       "\n"
      ],
      "text/plain": [
       "                      Estimate    Std. Error t value    Pr(>|t|)    \n",
       "(Intercept)            14.5480635 16.0176964  0.9082494 0.3802758022\n",
       "Employees             -12.2525523  5.5390442 -2.2120337 0.0454805116\n",
       "Radio                   5.5306553  1.0144116  5.4520820 0.0001108264\n",
       "SocialMedia             6.6464709  2.6597356  2.4989216 0.0266429057\n",
       "Employees:Radio        -0.1014455  0.2462113 -0.4120263 0.6870332500\n",
       "Employees:SocialMedia   0.4149923  0.6004514  0.6911338 0.5016372390\n",
       "Radio:SocialMedia       0.3663672  0.1721252  2.1284931 0.0529947435"
      ]
     },
     "metadata": {},
     "output_type": "display_data"
    },
    {
     "name": "stdout",
     "output_type": "stream",
     "text": [
      "[1] 5.530655\n"
     ]
    }
   ],
   "source": [
    "# Load necessary library\n",
    "library(readxl)\n",
    "\n",
    "# Read the data\n",
    "df <- read_excel(\"Profit Data.xlsx\")\n",
    "\n",
    "# Fit the multilinear regression model with interaction terms\n",
    "model <- lm(Profit ~ Employees + Radio + SocialMedia + \n",
    "               Employees:Radio + Employees:SocialMedia + Radio:SocialMedia, data = df)\n",
    "\n",
    "summary(model)$coefficients\n",
    "\n",
    "# Extract beta_2 (coefficient for Radio)\n",
    "PartD <- summary(model)$coefficients[\"Radio\", 'Estimate']\n",
    "\n",
    "# Print the result\n",
    "print(PartD)\n"
   ]
  },
  {
   "cell_type": "code",
   "execution_count": null,
   "id": "43c458be",
   "metadata": {
    "deletable": false,
    "editable": false,
    "nbgrader": {
     "cell_type": "code",
     "checksum": "aa00b0ecb740312773399088e50cbd03",
     "grade": true,
     "grade_id": "cell-a20e8c59a0178d66",
     "locked": true,
     "points": 2,
     "schema_version": 3,
     "solution": false,
     "task": false
    }
   },
   "outputs": [],
   "source": []
  },
  {
   "cell_type": "markdown",
   "id": "dd95141a",
   "metadata": {
    "deletable": false,
    "editable": false,
    "nbgrader": {
     "cell_type": "markdown",
     "checksum": "35bc597677b581e55d81e8f034cff56a",
     "grade": false,
     "grade_id": "cell-91f8004918666497",
     "locked": true,
     "schema_version": 3,
     "solution": false,
     "task": false
    }
   },
   "source": [
    "#### Part E\n",
    "For the full multilinear regression model that you created in Part D, predict the response (**Profit**) when **Employees** = 3.5, **Radio** = 9.5, and **SocialMedia** = 5.  Store your answer in the variable `PartE`.  Note that your initial output may have a column name of 1 above your response value.  You can remove this by simply using the **unname()** function (place you initial result inside this function to remove the column name)."
   ]
  },
  {
   "cell_type": "code",
   "execution_count": 5,
   "id": "854f2042",
   "metadata": {
    "deletable": false,
    "nbgrader": {
     "cell_type": "code",
     "checksum": "a2f252ad752d191bb9bc5828e7e04bba",
     "grade": false,
     "grade_id": "cell-1b0048c65d491c4c",
     "locked": false,
     "schema_version": 3,
     "solution": true,
     "task": false
    }
   },
   "outputs": [
    {
     "name": "stdout",
     "output_type": "stream",
     "text": [
      "[1] 78.72945\n"
     ]
    }
   ],
   "source": [
    "# Predict Profit when Employees = 3.5, Radio = 9.5, and SocialMedia = 5\n",
    "PartE <- unname(predict(model, newdata = data.frame(Employees = 3.5, Radio = 9.5, SocialMedia = 5)))\n",
    "\n",
    "# Print the result\n",
    "print(PartE)"
   ]
  },
  {
   "cell_type": "code",
   "execution_count": null,
   "id": "68838574",
   "metadata": {
    "deletable": false,
    "editable": false,
    "nbgrader": {
     "cell_type": "code",
     "checksum": "896fc543739ae8408e42226c95503373",
     "grade": true,
     "grade_id": "cell-9ff2df00cf8d0a8a",
     "locked": true,
     "points": 1,
     "schema_version": 3,
     "solution": false,
     "task": false
    }
   },
   "outputs": [],
   "source": []
  },
  {
   "cell_type": "markdown",
   "id": "1d22e271",
   "metadata": {
    "deletable": false,
    "editable": false,
    "nbgrader": {
     "cell_type": "markdown",
     "checksum": "447207eeb0baa4dfd8bda338afddc11c",
     "grade": false,
     "grade_id": "cell-06c94cc4d45bb486",
     "locked": true,
     "schema_version": 3,
     "solution": false,
     "task": false
    }
   },
   "source": [
    "#### Part F\n",
    "Begin with the full multilinear regression model that you created in Part D.  Use backward elimination with a P-value to keep terms of 0.1 or 0.15 (it won't matter) to create a pared down model.\n",
    "\n",
    "What is the remaining model?  Store your answers in the vector named `PartF`, which will be a vector of 1's and 0's - 1 if that term should be in the final model and 0 if that term shouldn't be in the model.\n",
    "\n",
    "For example, if the final model were:\n",
    "\n",
    "$$Profit = \\beta_0+\\beta_2 \\cdot Radio+\\beta_3 \\cdot SocialMedia+\\beta_4 \\cdot Employees \\cdot Radio$$\n",
    "\n",
    "... then your answer would be:\n",
    "\n",
    "`PartF <- c(\"Employees\" = 0, \"Radio\" = 1, \"SocialMedia\" = 1, \"Employees:Radio\" = 1, \"Employees:SocialMedia\" = 0, \"Radio:SocialMedia\" = 0)`\n",
    "\n",
    "(You can just copy/paste the line above and just change around the 0's and 1's to match your answer.)"
   ]
  },
  {
   "cell_type": "code",
   "execution_count": 6,
   "id": "4ed258e4",
   "metadata": {
    "deletable": false,
    "nbgrader": {
     "cell_type": "code",
     "checksum": "5235f267cd79303ff13d46ef71ec8dba",
     "grade": false,
     "grade_id": "cell-facc5567cf276f38",
     "locked": false,
     "schema_version": 3,
     "solution": true,
     "task": false
    }
   },
   "outputs": [
    {
     "name": "stdout",
     "output_type": "stream",
     "text": [
      "            Employees                 Radio           SocialMedia \n",
      "                    1                     1                     1 \n",
      "      Employees:Radio Employees:SocialMedia     Radio:SocialMedia \n",
      "                    0                     0                     1 \n"
     ]
    }
   ],
   "source": [
    "# Perform backward elimination using stepwise regression\n",
    "final_model <- step(model, direction = \"backward\", trace = FALSE)\n",
    "\n",
    "# Get the terms that remain in the final model\n",
    "remaining_terms <- names(coef(final_model))[-1]  # Exclude the intercept\n",
    "\n",
    "# Create the PartF vector based on remaining terms\n",
    "PartF <- c(\"Employees\" = as.integer(\"Employees\" %in% remaining_terms), \n",
    "           \"Radio\" = as.integer(\"Radio\" %in% remaining_terms), \n",
    "           \"SocialMedia\" = as.integer(\"SocialMedia\" %in% remaining_terms), \n",
    "           \"Employees:Radio\" = as.integer(\"Employees:Radio\" %in% remaining_terms), \n",
    "           \"Employees:SocialMedia\" = as.integer(\"Employees:SocialMedia\" %in% remaining_terms), \n",
    "           \"Radio:SocialMedia\" = as.integer(\"Radio:SocialMedia\" %in% remaining_terms))\n",
    "\n",
    "# Print the result\n",
    "print(PartF)\n"
   ]
  },
  {
   "cell_type": "code",
   "execution_count": null,
   "id": "247acf0b",
   "metadata": {
    "deletable": false,
    "editable": false,
    "nbgrader": {
     "cell_type": "code",
     "checksum": "36c61619a5f0e5e31dd45cb7bf920d3d",
     "grade": true,
     "grade_id": "cell-626fe7c055aa7b42",
     "locked": true,
     "points": 2,
     "schema_version": 3,
     "solution": false,
     "task": false
    }
   },
   "outputs": [],
   "source": []
  },
  {
   "cell_type": "markdown",
   "id": "0777028a",
   "metadata": {
    "deletable": false,
    "editable": false,
    "nbgrader": {
     "cell_type": "markdown",
     "checksum": "6baffb6794c3a72d4f8c13d835598d73",
     "grade": false,
     "grade_id": "cell-73cdd1fcf69a85e8",
     "locked": true,
     "schema_version": 3,
     "solution": false,
     "task": false
    }
   },
   "source": [
    "#### Part G\n",
    "A file called \"Concrete Strength.xlsx\" has data related to the strength of a particular concrete blend as a function of sand level (**Sand**, low or high) and presence of a new chemical hardener (**Hardener**).  The \"Concrete Strength.xlsx\" file is in the same folder as this file.  Therefore, in order to import the data in this file, you can simply use 'read_excel(\"Concrete Strength.xlsx\")' (the readxl library needs to be loaded first, as always).\n",
    "\n",
    "Use two-way analysis of variance (ANOVA) in R to determine which effects (**Sand**, **Hardener**, and/or the interaction between **Sand** and **Hardener**) is/are significant. \n",
    "\n",
    "Store your answers in the vector named `PartG`, which will be a vector of 1's and 0's - 1 if that effect is significant and 0 if that effect is not significant.\n",
    "\n",
    "For example, if **Sand** is not significant, **Hardener** is significant, and the interaction (**Sand:Hardener**) is not significant, then your answer would be:\n",
    "\n",
    "`PartG <- c(\"Sand\" = 0, \"Hardener\" = 1, \"Sand:Hardener\" = 0)`\n",
    "\n",
    "(You can just copy/paste the line above and just change around the 0's and 1's to match your answer.)"
   ]
  },
  {
   "cell_type": "code",
   "execution_count": 7,
   "id": "6ef90574",
   "metadata": {
    "deletable": false,
    "nbgrader": {
     "cell_type": "code",
     "checksum": "a03271465990314bcbb5b2e5e725b742",
     "grade": false,
     "grade_id": "cell-408d5453fe0580d0",
     "locked": false,
     "schema_version": 3,
     "solution": true,
     "task": false
    }
   },
   "outputs": [
    {
     "name": "stdout",
     "output_type": "stream",
     "text": [
      "         Sand      Hardener Sand:Hardener \n",
      "            1             0             1 \n"
     ]
    }
   ],
   "source": [
    "# Load necessary library\n",
    "library(readxl)\n",
    "\n",
    "# Read the data\n",
    "df <- read_excel(\"Concrete Strength.xlsx\")\n",
    "\n",
    "# Convert categorical variables to factors\n",
    "df$Sand <- as.factor(df$Sand)\n",
    "df$Hardener <- as.factor(df$Hardener)\n",
    "\n",
    "# Perform two-way ANOVA\n",
    "anova_model <- aov(Strength ~ Sand * Hardener, data = df)\n",
    "\n",
    "# Get ANOVA table\n",
    "anova_results <- summary(anova_model)[[1]]\n",
    "\n",
    "# Extract p-values\n",
    "p_values <- anova_results[[\"Pr(>F)\"]]\n",
    "\n",
    "# Determine significance at alpha = 0.05\n",
    "PartG <- c(\"Sand\" = as.integer(p_values[1] < 0.05), \n",
    "           \"Hardener\" = as.integer(p_values[2] < 0.05), \n",
    "           \"Sand:Hardener\" = as.integer(p_values[3] < 0.05))\n",
    "\n",
    "# Print the result\n",
    "print(PartG)\n"
   ]
  },
  {
   "cell_type": "code",
   "execution_count": null,
   "id": "73ec4fcb",
   "metadata": {
    "deletable": false,
    "editable": false,
    "nbgrader": {
     "cell_type": "code",
     "checksum": "8c5dd4c476c41b86885229dfc9af4ecc",
     "grade": true,
     "grade_id": "cell-a25af157d8c548f4",
     "locked": true,
     "points": 2,
     "schema_version": 3,
     "solution": false,
     "task": false
    }
   },
   "outputs": [],
   "source": []
  }
 ],
 "metadata": {
  "kernelspec": {
   "display_name": "R",
   "language": "R",
   "name": "ir"
  },
  "language_info": {
   "codemirror_mode": "r",
   "file_extension": ".r",
   "mimetype": "text/x-r-source",
   "name": "R",
   "pygments_lexer": "r",
   "version": "4.2.2"
  }
 },
 "nbformat": 4,
 "nbformat_minor": 5
}
