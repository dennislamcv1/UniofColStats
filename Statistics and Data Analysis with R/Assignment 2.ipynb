{
 "cells": [
  {
   "cell_type": "markdown",
   "id": "6ebb55ea",
   "metadata": {
    "deletable": false,
    "editable": false,
    "nbgrader": {
     "cell_type": "markdown",
     "checksum": "ac6e419efc4c29d038821e3ec4c1a9ed",
     "grade": false,
     "grade_id": "cell-8944255ebfb10aec",
     "locked": true,
     "schema_version": 3,
     "solution": false,
     "task": false
    }
   },
   "source": [
    "#### GENERAL INSTRUCTIONS: Place your code in each cell to perform the required calculations.  Ctrl-Enter will execute all lines of code in that cell. Once you are satisfied with your answer (you may work through it as much as you'd like), click on the \"Submit Assignment\" button in the upper right corner and your assignment will be graded."
   ]
  },
  {
   "cell_type": "markdown",
   "id": "bc8b277c",
   "metadata": {
    "deletable": false,
    "editable": false,
    "nbgrader": {
     "cell_type": "markdown",
     "checksum": "12c3b73a8453319cd4e71b25d3268e3e",
     "grade": false,
     "grade_id": "cell-535af93dd50a4b55",
     "locked": true,
     "schema_version": 3,
     "solution": false,
     "task": false
    }
   },
   "source": [
    "#### Part A\n",
    "The built-in data set called **lynx** presents the annual numbers of lynx trappings for 1821–1934 in Canada. (You can display the data by simply typing `lynx` into the console of RStudio.)\n",
    "\n",
    "Calculate the mean number of lynx trappings per year and save your answer in the variable `PartA`."
   ]
  },
  {
   "cell_type": "code",
   "execution_count": 1,
   "id": "6a4e2503",
   "metadata": {
    "deletable": false,
    "nbgrader": {
     "cell_type": "code",
     "checksum": "24c2e26aedf367207084f9f82a78507d",
     "grade": false,
     "grade_id": "cell-eda4e3c33717469d",
     "locked": false,
     "schema_version": 3,
     "solution": true,
     "task": false
    }
   },
   "outputs": [
    {
     "name": "stdout",
     "output_type": "stream",
     "text": [
      "[1] 1538.018\n"
     ]
    }
   ],
   "source": [
    "# your code here\n",
    "\n",
    "\n",
    "PartA <- mean(lynx)\n",
    "print(PartA)"
   ]
  },
  {
   "cell_type": "code",
   "execution_count": null,
   "id": "0eb51c2a",
   "metadata": {
    "deletable": false,
    "editable": false,
    "nbgrader": {
     "cell_type": "code",
     "checksum": "b0f3ef0eee91c6c5ee1a22ed749d4931",
     "grade": true,
     "grade_id": "cell-95b265da13e93e4f",
     "locked": true,
     "points": 1,
     "schema_version": 3,
     "solution": false,
     "task": false
    }
   },
   "outputs": [],
   "source": []
  },
  {
   "cell_type": "markdown",
   "id": "6815818a",
   "metadata": {
    "deletable": false,
    "editable": false,
    "nbgrader": {
     "cell_type": "markdown",
     "checksum": "aec8f59f70b6b6dcf6b767368ccdcae8",
     "grade": false,
     "grade_id": "cell-69755b0ae1d8f7a8",
     "locked": true,
     "schema_version": 3,
     "solution": false,
     "task": false
    }
   },
   "source": [
    "#### Part B\n",
    "Calculate the range (difference between maximum and minimum annualy lynx trappings) of the **lynx** data set (see above).  Store your answer in the variable `PartB`."
   ]
  },
  {
   "cell_type": "code",
   "execution_count": 2,
   "id": "2398e4cb",
   "metadata": {
    "deletable": false,
    "nbgrader": {
     "cell_type": "code",
     "checksum": "e45cab12d0a943df7d309d3d0714cdf0",
     "grade": false,
     "grade_id": "cell-f737e77f33c6d992",
     "locked": false,
     "schema_version": 3,
     "solution": true,
     "task": false
    }
   },
   "outputs": [
    {
     "name": "stdout",
     "output_type": "stream",
     "text": [
      "[1] 6952\n"
     ]
    }
   ],
   "source": [
    "# your code here\n",
    "\n",
    "\n",
    "PartB <- max(lynx) - min(lynx)\n",
    "print(PartB)"
   ]
  },
  {
   "cell_type": "code",
   "execution_count": null,
   "id": "a01e6178",
   "metadata": {
    "deletable": false,
    "editable": false,
    "nbgrader": {
     "cell_type": "code",
     "checksum": "439ee11845ac71c4582fad22e73b00ac",
     "grade": true,
     "grade_id": "cell-4ddce3ca41242f80",
     "locked": true,
     "points": 2,
     "schema_version": 3,
     "solution": false,
     "task": false
    }
   },
   "outputs": [],
   "source": []
  },
  {
   "cell_type": "markdown",
   "id": "ea2d316a",
   "metadata": {},
   "source": [
    "#### Part C\n",
    "What is the 60th percentile of the **lynx** data set (see above)?  Store your answer in the variable `PartC`. HINT: Your initial worked answer might have a \"60%\" label to it (above your value of the 60th percentile).  To remove the label, you can just use the `unname(result)` function, where `result` is the result with the \"60%\" label."
   ]
  },
  {
   "cell_type": "code",
   "execution_count": 3,
   "id": "a8fdad23",
   "metadata": {
    "deletable": false,
    "nbgrader": {
     "cell_type": "code",
     "checksum": "e3665ae20c8f0cef64376acbf28b0e2b",
     "grade": false,
     "grade_id": "cell-7c701fa4af7bc682",
     "locked": false,
     "schema_version": 3,
     "solution": true,
     "task": false
    }
   },
   "outputs": [
    {
     "name": "stdout",
     "output_type": "stream",
     "text": [
      "[1] 1465.2\n"
     ]
    }
   ],
   "source": [
    "# your code here\n",
    "\n",
    "# Calculate the 60th percentile of lynx trappings\n",
    "result <- quantile(lynx, 0.60)\n",
    "\n",
    "# Remove the label and store the result in PartC\n",
    "PartC <- unname(result)\n",
    "print(PartC)"
   ]
  },
  {
   "cell_type": "code",
   "execution_count": null,
   "id": "794af0fd",
   "metadata": {
    "deletable": false,
    "editable": false,
    "nbgrader": {
     "cell_type": "code",
     "checksum": "f84b43c0f96e5ab2bdc43886439dd9ac",
     "grade": true,
     "grade_id": "cell-256d0915e06f16d0",
     "locked": true,
     "points": 1,
     "schema_version": 3,
     "solution": false,
     "task": false
    }
   },
   "outputs": [],
   "source": []
  },
  {
   "cell_type": "markdown",
   "id": "88ff17c2",
   "metadata": {
    "deletable": false,
    "editable": false,
    "nbgrader": {
     "cell_type": "markdown",
     "checksum": "e1fd1e0b32645940824f7c38d04b2b8b",
     "grade": false,
     "grade_id": "cell-a544f16b008bdae5",
     "locked": true,
     "schema_version": 3,
     "solution": false,
     "task": false
    }
   },
   "source": [
    "#### Part D\n",
    "The built-in data set called **PlantGrowth** presents the results from an experiment to compare yields (as measured by dried weight of plants) obtained under a control and two different treatment conditions. (You can display the data by simply typing `PlantGrowth` into the console.) \n",
    "\n",
    "Calculate the average of the **trt2** weights (i.e., only those weights where the group is **trt2**) and save your answer in the variable `PartD`."
   ]
  },
  {
   "cell_type": "code",
   "execution_count": 4,
   "id": "1382636e",
   "metadata": {
    "deletable": false,
    "nbgrader": {
     "cell_type": "code",
     "checksum": "4487b98f1973eba6a2bafc9198dcaae9",
     "grade": false,
     "grade_id": "cell-fa48ca68e4c61b96",
     "locked": false,
     "schema_version": 3,
     "solution": true,
     "task": false
    }
   },
   "outputs": [
    {
     "name": "stdout",
     "output_type": "stream",
     "text": [
      "[1] 5.526\n"
     ]
    }
   ],
   "source": [
    "# your code here\n",
    "\n",
    "\n",
    "PartD <- mean(PlantGrowth$weight[PlantGrowth$group == \"trt2\"])\n",
    "print(PartD)"
   ]
  },
  {
   "cell_type": "code",
   "execution_count": null,
   "id": "259a2797",
   "metadata": {
    "deletable": false,
    "editable": false,
    "nbgrader": {
     "cell_type": "code",
     "checksum": "5d8b7487f94d0caea05f88a1d7cffe7a",
     "grade": true,
     "grade_id": "cell-7bb622c1188aaa5b",
     "locked": true,
     "points": 1,
     "schema_version": 3,
     "solution": false,
     "task": false
    }
   },
   "outputs": [],
   "source": []
  },
  {
   "cell_type": "markdown",
   "id": "117f5a25",
   "metadata": {
    "deletable": false,
    "editable": false,
    "nbgrader": {
     "cell_type": "markdown",
     "checksum": "ea86488541c7b5c1cc567da93dd9eab1",
     "grade": false,
     "grade_id": "cell-b943c11d17a3a7af",
     "locked": true,
     "schema_version": 3,
     "solution": false,
     "task": false
    }
   },
   "source": [
    "#### Part E\n",
    "For the **PlantGrowth** data set (see above), what is the difference between the median weight and the mean weight of the control (**ctrl**) group (i.e., only those weights where group is equal to **ctrl**)? HINT: Your answer should be a positive decimal.  Save your answer in the variable `PartE`."
   ]
  },
  {
   "cell_type": "code",
   "execution_count": 5,
   "id": "82b03719",
   "metadata": {
    "deletable": false,
    "nbgrader": {
     "cell_type": "code",
     "checksum": "6c5a3620563a70b622f6c0b6a76f6360",
     "grade": false,
     "grade_id": "cell-89b0499a7d79586d",
     "locked": false,
     "schema_version": 3,
     "solution": true,
     "task": false
    }
   },
   "outputs": [
    {
     "name": "stdout",
     "output_type": "stream",
     "text": [
      "[1] 0.123\n"
     ]
    }
   ],
   "source": [
    "# Calculate the mean and median weight of the ctrl group\n",
    "mean_ctrl <- mean(PlantGrowth$weight[PlantGrowth$group == \"ctrl\"])\n",
    "median_ctrl <- median(PlantGrowth$weight[PlantGrowth$group == \"ctrl\"])\n",
    "\n",
    "# Compute the absolute difference\n",
    "PartE <- abs(median_ctrl - mean_ctrl)\n",
    "print(PartE)"
   ]
  },
  {
   "cell_type": "code",
   "execution_count": null,
   "id": "b1be54de",
   "metadata": {
    "deletable": false,
    "editable": false,
    "nbgrader": {
     "cell_type": "code",
     "checksum": "2e9e00763d8742886794a8599a665ff2",
     "grade": true,
     "grade_id": "cell-3cf7228ca5e574e2",
     "locked": true,
     "points": 2,
     "schema_version": 3,
     "solution": false,
     "task": false
    }
   },
   "outputs": [],
   "source": []
  },
  {
   "cell_type": "markdown",
   "id": "80155783",
   "metadata": {
    "deletable": false,
    "editable": false,
    "nbgrader": {
     "cell_type": "markdown",
     "checksum": "42a07db955ab3917efec01424f3c3f74",
     "grade": false,
     "grade_id": "cell-8119359f5a7058dd",
     "locked": true,
     "schema_version": 3,
     "solution": false,
     "task": false
    }
   },
   "source": [
    "#### Part F\n",
    "Data for the number of eggs produced by specimens of the amphipod *Platorchestia platensis* are provided in the file \"Platorchestia platensis eggs.xlsx\" (same directory as this file, so the file path to import is simply the file name).  You might want to copy/paste that file name in your solution so you do not misspell it. \n",
    "\n",
    "Import the data using the **read_excel** function and calculate the P-value of the AD statistic for these data.  Store your answer in the variable `PartF`.  Make sure that your result is a single scalar value (e.g., not a vector or array).  HINT: See the very last couple of minutes of the \"Probability Plots and the AD Statistic\" for how to save the P-value of the AD statistic as a variable.\n",
    "\n",
    "(Reference: McDonald, J.H. 1989. Selection component analysis of the Mpi locus in the amphipod Platorchestia platensis. Heredity 62: 243-249.)"
   ]
  },
  {
   "cell_type": "code",
   "execution_count": 6,
   "id": "28b83c5b",
   "metadata": {
    "deletable": false,
    "nbgrader": {
     "cell_type": "code",
     "checksum": "d5e2be0055fb374cf2fc6369e274a4c4",
     "grade": false,
     "grade_id": "cell-91032cabf9700cc8",
     "locked": false,
     "schema_version": 3,
     "solution": true,
     "task": false
    }
   },
   "outputs": [
    {
     "name": "stdout",
     "output_type": "stream",
     "text": [
      "[1] 0.01967052\n"
     ]
    }
   ],
   "source": [
    "# Load necessary libraries\n",
    "library(readxl)\n",
    "library(nortest)\n",
    "\n",
    "# Read the Excel file\n",
    "data <- read_excel(\"Platorchestia platensis eggs.xlsx\")\n",
    "\n",
    "\n",
    "# Extract the column with egg count (assuming it's the first column)\n",
    "egg_counts <- data[[1]]\n",
    "\n",
    "# Perform the Anderson-Darling test\n",
    "ad_test_result <- ad.test(egg_counts)\n",
    "\n",
    "# Store the P-value as a single scalar value\n",
    "PartF <- ad_test_result$p.value\n",
    "\n",
    "# Print the result\n",
    "print(PartF)"
   ]
  },
  {
   "cell_type": "code",
   "execution_count": null,
   "id": "72b8b6bb",
   "metadata": {
    "deletable": false,
    "editable": false,
    "nbgrader": {
     "cell_type": "code",
     "checksum": "6922df0900c2238d408859e4d3268290",
     "grade": true,
     "grade_id": "cell-9f1e1130413d4cfe",
     "locked": true,
     "points": 2,
     "schema_version": 3,
     "solution": false,
     "task": false
    }
   },
   "outputs": [],
   "source": []
  },
  {
   "cell_type": "markdown",
   "id": "d450b685",
   "metadata": {
    "deletable": false,
    "editable": false,
    "nbgrader": {
     "cell_type": "markdown",
     "checksum": "287607022479a91b97a4452fd91e1514",
     "grade": false,
     "grade_id": "cell-09f93a3c11f4b230",
     "locked": true,
     "schema_version": 3,
     "solution": false,
     "task": false
    }
   },
   "source": [
    "#### Part G\n",
    "Based on your conclusion for Part F above, which of the following options (multiple choice) correctly describes the conclusion that you would make regarding the normality of the egg data?\n",
    "\n",
    "A: The egg data can be assumed to be normally distributed.\\\n",
    "B: The egg data can NOT be assumed to be normally distributed.\n",
    "\n",
    "Store your answer in the variable `PartG`.  You only need to write one of the two lines that follow (simply copy/paste your decision):\n",
    "\n",
    "PartG <- 'A'\\\n",
    "OR\\\n",
    "PartG <- 'B'"
   ]
  },
  {
   "cell_type": "code",
   "execution_count": 7,
   "id": "342e6f8f",
   "metadata": {
    "deletable": false,
    "nbgrader": {
     "cell_type": "code",
     "checksum": "83cac3b1b546d707efcd01b325edca5b",
     "grade": false,
     "grade_id": "cell-d38208ff697e5139",
     "locked": false,
     "schema_version": 3,
     "solution": true,
     "task": false
    }
   },
   "outputs": [
    {
     "name": "stdout",
     "output_type": "stream",
     "text": [
      "[1] \"B\"\n"
     ]
    }
   ],
   "source": [
    "# your code here\n",
    "\n",
    "\n",
    "PartG <- 'B'\n",
    "print(PartG)"
   ]
  },
  {
   "cell_type": "code",
   "execution_count": null,
   "id": "27e5a9cb",
   "metadata": {
    "deletable": false,
    "editable": false,
    "nbgrader": {
     "cell_type": "code",
     "checksum": "096ca1dafa177813022b99f390215ee9",
     "grade": true,
     "grade_id": "cell-c78720ad453e4405",
     "locked": true,
     "points": 1,
     "schema_version": 3,
     "solution": false,
     "task": false
    }
   },
   "outputs": [],
   "source": []
  },
  {
   "cell_type": "code",
   "execution_count": null,
   "id": "90e72499",
   "metadata": {},
   "outputs": [],
   "source": []
  }
 ],
 "metadata": {
  "kernelspec": {
   "display_name": "R",
   "language": "R",
   "name": "ir"
  },
  "language_info": {
   "codemirror_mode": "r",
   "file_extension": ".r",
   "mimetype": "text/x-r-source",
   "name": "R",
   "pygments_lexer": "r",
   "version": "4.2.2"
  }
 },
 "nbformat": 4,
 "nbformat_minor": 5
}
